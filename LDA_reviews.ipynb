{
 "cells": [
  {
   "cell_type": "code",
   "execution_count": 1,
   "metadata": {},
   "outputs": [
    {
     "name": "stderr",
     "output_type": "stream",
     "text": [
      "C:\\ProgramData\\Anaconda3\\lib\\site-packages\\sklearn\\decomposition\\nmf.py:972: DeprecationWarning: invalid escape sequence \\s\n",
      "  \"\"\"\n",
      "C:\\ProgramData\\Anaconda3\\lib\\site-packages\\sklearn\\decomposition\\nmf.py:1186: DeprecationWarning: invalid escape sequence \\s\n",
      "  \"\"\"\n",
      "C:\\ProgramData\\Anaconda3\\lib\\site-packages\\sklearn\\manifold\\t_sne.py:420: DeprecationWarning: invalid escape sequence \\s\n",
      "  \"\"\"\n"
     ]
    }
   ],
   "source": [
    "#importing necessary libraries\n",
    "import pandas as pd\n",
    "import numpy as np\n",
    "\n",
    "#text processing\n",
    "import re\n",
    "import string\n",
    "import nltk\n",
    "from gensim import corpora, models, similarities \n",
    "from nltk.corpus import stopwords\n",
    "from nltk.stem.porter import PorterStemmer\n",
    "from sklearn.feature_extraction.text import CountVectorizer, TfidfVectorizer\n",
    "\n",
    "#LDA\n",
    "import gensim\n",
    "import pyLDAvis.gensim\n",
    "\n",
    "import warnings\n",
    "warnings.simplefilter(\"ignore\", category=DeprecationWarning)"
   ]
  },
  {
   "cell_type": "code",
   "execution_count": 2,
   "metadata": {},
   "outputs": [
    {
     "data": {
      "text/html": [
       "<div>\n",
       "<style scoped>\n",
       "    .dataframe tbody tr th:only-of-type {\n",
       "        vertical-align: middle;\n",
       "    }\n",
       "\n",
       "    .dataframe tbody tr th {\n",
       "        vertical-align: top;\n",
       "    }\n",
       "\n",
       "    .dataframe thead th {\n",
       "        text-align: right;\n",
       "    }\n",
       "</style>\n",
       "<table border=\"1\" class=\"dataframe\">\n",
       "  <thead>\n",
       "    <tr style=\"text-align: right;\">\n",
       "      <th></th>\n",
       "      <th>Reviews</th>\n",
       "    </tr>\n",
       "  </thead>\n",
       "  <tbody>\n",
       "    <tr>\n",
       "      <th>0</th>\n",
       "      <td>I thought it would be as big as small paper bu...</td>\n",
       "    </tr>\n",
       "    <tr>\n",
       "      <th>1</th>\n",
       "      <td>This kindle is light and easy to use especiall...</td>\n",
       "    </tr>\n",
       "    <tr>\n",
       "      <th>2</th>\n",
       "      <td>Didnt know how much i'd use a kindle so went f...</td>\n",
       "    </tr>\n",
       "    <tr>\n",
       "      <th>3</th>\n",
       "      <td>I am 100 happy with my purchase. I caught it o...</td>\n",
       "    </tr>\n",
       "    <tr>\n",
       "      <th>4</th>\n",
       "      <td>Solid entry level Kindle. Great for kids. Gift...</td>\n",
       "    </tr>\n",
       "    <tr>\n",
       "      <th>5</th>\n",
       "      <td>This make an excellent ebook reader. Don't exp...</td>\n",
       "    </tr>\n",
       "    <tr>\n",
       "      <th>6</th>\n",
       "      <td>I ordered this for my daughter, as I have the ...</td>\n",
       "    </tr>\n",
       "  </tbody>\n",
       "</table>\n",
       "</div>"
      ],
      "text/plain": [
       "                                             Reviews\n",
       "0  I thought it would be as big as small paper bu...\n",
       "1  This kindle is light and easy to use especiall...\n",
       "2  Didnt know how much i'd use a kindle so went f...\n",
       "3  I am 100 happy with my purchase. I caught it o...\n",
       "4  Solid entry level Kindle. Great for kids. Gift...\n",
       "5  This make an excellent ebook reader. Don't exp...\n",
       "6  I ordered this for my daughter, as I have the ..."
      ]
     },
     "execution_count": 2,
     "metadata": {},
     "output_type": "execute_result"
    }
   ],
   "source": [
    "#read the csv file with amazon reviews\n",
    "reviews_df=pd.read_csv('reviews.csv',error_bad_lines=False)\n",
    "reviews_df['Reviews'] = reviews_df['Reviews'].astype(str) \n",
    "reviews_df.head(7)"
   ]
  },
  {
   "cell_type": "code",
   "execution_count": 3,
   "metadata": {},
   "outputs": [],
   "source": [
    "def initial_clean(text):\n",
    "    \"\"\"\n",
    "    Function to clean text-remove punctuations, lowercase text etc.\n",
    "    \n",
    "    \"\"\"\n",
    "    text = re.sub(\"((\\S+)?(http(s)?)(\\S+))|((\\S+)?(www)(\\S+))|((\\S+)?(\\@)(\\S+)?)\", \" \", text)\n",
    "    text = re.sub(\"[^a-zA-Z ]\", \"\", text)\n",
    "    text = text.lower() # lower case text\n",
    "    text = nltk.word_tokenize(text)\n",
    "    return text\n",
    "\n",
    "stop_words = stopwords.words('english')\n",
    "stop_words.extend(['news', 'say','use', 'not', 'would', 'say', 'could', '_', 'be', 'know', 'good', 'go', 'get', 'do','took','time','year',\n",
    "                   'done', 'try', 'many', 'some','nice', 'thank', 'think', 'see', 'rather', 'easy', 'easily', 'lot', 'lack', \n",
    "                   'make', 'want', 'seem', 'run', 'need', 'even', 'right', 'line','even', 'also', 'may', 'take', 'come', 'new','said', 'like','people'])\n",
    "def remove_stop_words(text):\n",
    "    \"\"\"\n",
    "    Function to remove all stopwords from text\n",
    "    \"\"\"\n",
    "    return [word for word in text if word not in stop_words]\n",
    "\n",
    "stemmer = PorterStemmer()\n",
    "def stem_words(text):\n",
    "    \"\"\"\n",
    "    Function to stem words, so plural and singular are treated the same\n",
    "    \"\"\"\n",
    "    try:\n",
    "        text = [stemmer.stem(word) for word in text]\n",
    "        text = [word for word in text if len(word) > 1] # makes sure there are no single letter words\n",
    "    except IndexError:\n",
    "        pass\n",
    "    return text\n"
   ]
  },
  {
   "cell_type": "code",
   "execution_count": 4,
   "metadata": {},
   "outputs": [],
   "source": [
    "def apply_all(text):\n",
    "    \"\"\"\n",
    "    This function applies all the functions above into one\n",
    "    \"\"\"\n",
    "    return stem_words(remove_stop_words(initial_clean(text)))"
   ]
  },
  {
   "cell_type": "markdown",
   "metadata": {},
   "source": [
    "## LDA on amazon reviews"
   ]
  },
  {
   "cell_type": "code",
   "execution_count": 5,
   "metadata": {},
   "outputs": [
    {
     "name": "stdout",
     "output_type": "stream",
     "text": [
      "Time to clean and tokenize 5000 reviews: 0.06679176092147827 min\n"
     ]
    }
   ],
   "source": [
    "# clean reviews data and create new column \"tokenized\"\n",
    "import time\n",
    "t1 = time.time()\n",
    "reviews_df['tokenized_reviews'] = reviews_df['Reviews'].apply(apply_all) \n",
    "t2 = time.time()\n",
    "print(\"Time to clean and tokenize\", len(reviews_df), \"reviews:\", (t2-t1)/60, \"min\")\n"
   ]
  },
  {
   "cell_type": "code",
   "execution_count": 6,
   "metadata": {},
   "outputs": [
    {
     "data": {
      "text/html": [
       "<div>\n",
       "<style scoped>\n",
       "    .dataframe tbody tr th:only-of-type {\n",
       "        vertical-align: middle;\n",
       "    }\n",
       "\n",
       "    .dataframe tbody tr th {\n",
       "        vertical-align: top;\n",
       "    }\n",
       "\n",
       "    .dataframe thead th {\n",
       "        text-align: right;\n",
       "    }\n",
       "</style>\n",
       "<table border=\"1\" class=\"dataframe\">\n",
       "  <thead>\n",
       "    <tr style=\"text-align: right;\">\n",
       "      <th></th>\n",
       "      <th>Reviews</th>\n",
       "      <th>tokenized_reviews</th>\n",
       "    </tr>\n",
       "  </thead>\n",
       "  <tbody>\n",
       "    <tr>\n",
       "      <th>0</th>\n",
       "      <td>I thought it would be as big as small paper bu...</td>\n",
       "      <td>[thought, big, small, paper, turn, palm, small...</td>\n",
       "    </tr>\n",
       "    <tr>\n",
       "      <th>1</th>\n",
       "      <td>This kindle is light and easy to use especiall...</td>\n",
       "      <td>[kindl, light, especi, beach]</td>\n",
       "    </tr>\n",
       "    <tr>\n",
       "      <th>2</th>\n",
       "      <td>Didnt know how much i'd use a kindle so went f...</td>\n",
       "      <td>[didnt, much, id, kindl, went, lower, end, im,...</td>\n",
       "    </tr>\n",
       "    <tr>\n",
       "      <th>3</th>\n",
       "      <td>I am 100 happy with my purchase. I caught it o...</td>\n",
       "      <td>[happi, purchas, caught, sale, realli, price, ...</td>\n",
       "    </tr>\n",
       "    <tr>\n",
       "      <th>4</th>\n",
       "      <td>Solid entry level Kindle. Great for kids. Gift...</td>\n",
       "      <td>[solid, entri, level, kindl, great, kid, gift,...</td>\n",
       "    </tr>\n",
       "  </tbody>\n",
       "</table>\n",
       "</div>"
      ],
      "text/plain": [
       "                                             Reviews  \\\n",
       "0  I thought it would be as big as small paper bu...   \n",
       "1  This kindle is light and easy to use especiall...   \n",
       "2  Didnt know how much i'd use a kindle so went f...   \n",
       "3  I am 100 happy with my purchase. I caught it o...   \n",
       "4  Solid entry level Kindle. Great for kids. Gift...   \n",
       "\n",
       "                                   tokenized_reviews  \n",
       "0  [thought, big, small, paper, turn, palm, small...  \n",
       "1                      [kindl, light, especi, beach]  \n",
       "2  [didnt, much, id, kindl, went, lower, end, im,...  \n",
       "3  [happi, purchas, caught, sale, realli, price, ...  \n",
       "4  [solid, entri, level, kindl, great, kid, gift,...  "
      ]
     },
     "execution_count": 6,
     "metadata": {},
     "output_type": "execute_result"
    }
   ],
   "source": [
    "reviews_df.head()"
   ]
  },
  {
   "cell_type": "code",
   "execution_count": 7,
   "metadata": {},
   "outputs": [
    {
     "name": "stdout",
     "output_type": "stream",
     "text": [
      "[[(0, 1), (1, 1), (2, 1), (3, 1), (4, 1), (5, 1), (6, 1), (7, 1), (8, 1), (9, 1), (10, 1), (11, 2), (12, 1), (13, 1)]]\n"
     ]
    }
   ],
   "source": [
    "##create a Gensim dictionary from the tokenized data\n",
    "tokenized = reviews_df['tokenized_reviews']\n",
    "# Creating term dictionary of corpus, where each unique term is assigned an index.\n",
    "dictionary = corpora.Dictionary(tokenized)\n",
    "# Filter terms which occurs in less than 1 review & more than 80% of the reviews.\n",
    "dictionary.filter_extremes(no_below=1, no_above=0.8)\n",
    "#convert the dictionary to a bag of words corpus \n",
    "corpus = [dictionary.doc2bow(tokens) for tokens in tokenized]\n",
    "print(corpus[:1])"
   ]
  },
  {
   "cell_type": "code",
   "execution_count": 10,
   "metadata": {},
   "outputs": [
    {
     "name": "stdout",
     "output_type": "stream",
     "text": [
      "(0, '0.046*\"echo\" + 0.033*\"alexa\" + 0.026*\"show\" + 0.025*\"music\"')\n",
      "(1, '0.049*\"read\" + 0.047*\"book\" + 0.040*\"kindl\" + 0.029*\"love\"')\n",
      "(2, '0.042*\"kid\" + 0.023*\"great\" + 0.018*\"tablet\" + 0.014*\"set\"')\n",
      "(3, '0.025*\"work\" + 0.024*\"great\" + 0.023*\"amazon\" + 0.022*\"app\"')\n",
      "(4, '0.029*\"kindl\" + 0.017*\"read\" + 0.016*\"one\" + 0.015*\"screen\"')\n",
      "(5, '0.107*\"love\" + 0.065*\"bought\" + 0.040*\"gift\" + 0.038*\"one\"')\n",
      "(6, '0.088*\"tablet\" + 0.051*\"great\" + 0.031*\"price\" + 0.026*\"fire\"')\n"
     ]
    }
   ],
   "source": [
    "#LDA\n",
    "ldamodel = gensim.models.ldamodel.LdaModel(corpus, num_topics = 7, id2word=dictionary, passes=15)\n",
    "ldamodel.save('model.gensim')\n",
    "topics = ldamodel.print_topics(num_words=4)\n",
    "for topic in topics:\n",
    "    print(topic)"
   ]
  },
  {
   "cell_type": "code",
   "execution_count": 14,
   "metadata": {},
   "outputs": [
    {
     "name": "stdout",
     "output_type": "stream",
     "text": [
      "[(4, 0.94627804)]\n"
     ]
    }
   ],
   "source": [
    "get_document_topics = ldamodel.get_document_topics(corpus[0])\n",
    "print(get_document_topics)"
   ]
  },
  {
   "cell_type": "markdown",
   "metadata": {},
   "source": [
    "# Dominant Topic in each review"
   ]
  },
  {
   "cell_type": "code",
   "execution_count": 13,
   "metadata": {},
   "outputs": [],
   "source": [
    "def dominant_topic(ldamodel, corpus, texts):\n",
    "    # Function to find the dominant topic in each review\n",
    "    sent_topics_df = pd.DataFrame()\n",
    "\n",
    "    # Get main topic in each review\n",
    "    for i, row in enumerate(ldamodel[corpus]):\n",
    "        row = sorted(row, key=lambda x: (x[1]), reverse=True)\n",
    "        # Get the Dominant topic, Perc Contribution and Keywords for each review\n",
    "        for j, (topic_num, prop_topic) in enumerate(row):\n",
    "            if j == 0:  # => dominant topic\n",
    "                wp = ldamodel.show_topic(topic_num,topn=4)\n",
    "                topic_keywords = \", \".join([word for word, prop in wp])\n",
    "                sent_topics_df = sent_topics_df.append(pd.Series([int(topic_num), round(prop_topic,4), topic_keywords]), ignore_index=True)\n",
    "            else:\n",
    "                break\n",
    "    sent_topics_df.columns = ['Dominant_Topic', 'Perc_Contribution', 'Topic_Keywords']\n",
    "    contents = pd.Series(texts)\n",
    "    sent_topics_df = pd.concat([sent_topics_df, contents], axis=1)\n",
    "    return(sent_topics_df)"
   ]
  },
  {
   "cell_type": "code",
   "execution_count": 21,
   "metadata": {
    "scrolled": true
   },
   "outputs": [
    {
     "data": {
      "text/html": [
       "<div>\n",
       "<style scoped>\n",
       "    .dataframe tbody tr th:only-of-type {\n",
       "        vertical-align: middle;\n",
       "    }\n",
       "\n",
       "    .dataframe tbody tr th {\n",
       "        vertical-align: top;\n",
       "    }\n",
       "\n",
       "    .dataframe thead th {\n",
       "        text-align: right;\n",
       "    }\n",
       "</style>\n",
       "<table border=\"1\" class=\"dataframe\">\n",
       "  <thead>\n",
       "    <tr style=\"text-align: right;\">\n",
       "      <th></th>\n",
       "      <th>Dominant_Topic</th>\n",
       "      <th>Perc_Contribution</th>\n",
       "      <th>Topic_Keywords</th>\n",
       "      <th>Reviews</th>\n",
       "    </tr>\n",
       "  </thead>\n",
       "  <tbody>\n",
       "    <tr>\n",
       "      <th>0</th>\n",
       "      <td>4.0</td>\n",
       "      <td>0.9463</td>\n",
       "      <td>kindl, read, one, screen</td>\n",
       "      <td>I thought it would be as big as small paper bu...</td>\n",
       "    </tr>\n",
       "    <tr>\n",
       "      <th>1</th>\n",
       "      <td>1.0</td>\n",
       "      <td>0.8282</td>\n",
       "      <td>read, book, kindl, love</td>\n",
       "      <td>This kindle is light and easy to use especiall...</td>\n",
       "    </tr>\n",
       "    <tr>\n",
       "      <th>2</th>\n",
       "      <td>4.0</td>\n",
       "      <td>0.9284</td>\n",
       "      <td>kindl, read, one, screen</td>\n",
       "      <td>Didnt know how much i'd use a kindle so went f...</td>\n",
       "    </tr>\n",
       "    <tr>\n",
       "      <th>3</th>\n",
       "      <td>1.0</td>\n",
       "      <td>0.5047</td>\n",
       "      <td>read, book, kindl, love</td>\n",
       "      <td>I am 100 happy with my purchase. I caught it o...</td>\n",
       "    </tr>\n",
       "    <tr>\n",
       "      <th>4</th>\n",
       "      <td>1.0</td>\n",
       "      <td>0.3057</td>\n",
       "      <td>read, book, kindl, love</td>\n",
       "      <td>Solid entry level Kindle. Great for kids. Gift...</td>\n",
       "    </tr>\n",
       "    <tr>\n",
       "      <th>5</th>\n",
       "      <td>4.0</td>\n",
       "      <td>0.6938</td>\n",
       "      <td>kindl, read, one, screen</td>\n",
       "      <td>This make an excellent ebook reader. Don't exp...</td>\n",
       "    </tr>\n",
       "    <tr>\n",
       "      <th>6</th>\n",
       "      <td>4.0</td>\n",
       "      <td>0.5325</td>\n",
       "      <td>kindl, read, one, screen</td>\n",
       "      <td>I ordered this for my daughter, as I have the ...</td>\n",
       "    </tr>\n",
       "  </tbody>\n",
       "</table>\n",
       "</div>"
      ],
      "text/plain": [
       "   Dominant_Topic  Perc_Contribution            Topic_Keywords  \\\n",
       "0             4.0             0.9463  kindl, read, one, screen   \n",
       "1             1.0             0.8282   read, book, kindl, love   \n",
       "2             4.0             0.9284  kindl, read, one, screen   \n",
       "3             1.0             0.5047   read, book, kindl, love   \n",
       "4             1.0             0.3057   read, book, kindl, love   \n",
       "5             4.0             0.6938  kindl, read, one, screen   \n",
       "6             4.0             0.5325  kindl, read, one, screen   \n",
       "\n",
       "                                             Reviews  \n",
       "0  I thought it would be as big as small paper bu...  \n",
       "1  This kindle is light and easy to use especiall...  \n",
       "2  Didnt know how much i'd use a kindle so went f...  \n",
       "3  I am 100 happy with my purchase. I caught it o...  \n",
       "4  Solid entry level Kindle. Great for kids. Gift...  \n",
       "5  This make an excellent ebook reader. Don't exp...  \n",
       "6  I ordered this for my daughter, as I have the ...  "
      ]
     },
     "execution_count": 21,
     "metadata": {},
     "output_type": "execute_result"
    }
   ],
   "source": [
    "df_dominant_topic = dominant_topic(ldamodel=ldamodel, corpus=corpus, texts=reviews_df['Reviews'])\n",
    "df_dominant_topic.head(7)"
   ]
  },
  {
   "cell_type": "code",
   "execution_count": 20,
   "metadata": {},
   "outputs": [
    {
     "data": {
      "text/html": [
       "\n",
       "<link rel=\"stylesheet\" type=\"text/css\" href=\"https://cdn.rawgit.com/bmabey/pyLDAvis/files/ldavis.v1.0.0.css\">\n",
       "\n",
       "\n",
       "<div id=\"ldavis_el2275628017765050249939480477\"></div>\n",
       "<script type=\"text/javascript\">\n",
       "\n",
       "var ldavis_el2275628017765050249939480477_data = {\"mdsDat\": {\"Freq\": [19.773544311523438, 19.700674057006836, 16.286359786987305, 11.503146171569824, 11.330318450927734, 11.062947273254395, 10.343015670776367], \"cluster\": [1, 1, 1, 1, 1, 1, 1], \"topics\": [1, 2, 3, 4, 5, 6, 7], \"x\": [-0.024680176382754757, -0.09695895797308833, 0.0034661905029540717, -0.011959373729519707, 0.27305734208446036, -0.182558701448768, 0.03963367694671616], \"y\": [0.2072341429716627, -0.09621678938444088, -0.03809806775039203, -0.07694761911990436, -0.0977294858426581, -0.07943576928113019, 0.18119358840686264]}, \"tinfo\": {\"Category\": [\"Default\", \"Default\", \"Default\", \"Default\", \"Default\", \"Default\", \"Default\", \"Default\", \"Default\", \"Default\", \"Default\", \"Default\", \"Default\", \"Default\", \"Default\", \"Default\", \"Default\", \"Default\", \"Default\", \"Default\", \"Default\", \"Default\", \"Default\", \"Default\", \"Default\", \"Default\", \"Default\", \"Default\", \"Default\", \"Default\", \"Topic1\", \"Topic1\", \"Topic1\", \"Topic1\", \"Topic1\", \"Topic1\", \"Topic1\", \"Topic1\", \"Topic1\", \"Topic1\", \"Topic1\", \"Topic1\", \"Topic1\", \"Topic1\", \"Topic1\", \"Topic1\", \"Topic1\", \"Topic1\", \"Topic1\", \"Topic1\", \"Topic1\", \"Topic1\", \"Topic1\", \"Topic1\", \"Topic1\", \"Topic1\", \"Topic1\", \"Topic1\", \"Topic1\", \"Topic1\", \"Topic1\", \"Topic1\", \"Topic1\", \"Topic1\", \"Topic1\", \"Topic1\", \"Topic1\", \"Topic1\", \"Topic1\", \"Topic1\", \"Topic1\", \"Topic1\", \"Topic1\", \"Topic1\", \"Topic1\", \"Topic1\", \"Topic1\", \"Topic1\", \"Topic1\", \"Topic1\", \"Topic1\", \"Topic1\", \"Topic1\", \"Topic1\", \"Topic1\", \"Topic1\", \"Topic1\", \"Topic1\", \"Topic1\", \"Topic1\", \"Topic1\", \"Topic1\", \"Topic1\", \"Topic1\", \"Topic1\", \"Topic1\", \"Topic1\", \"Topic2\", \"Topic2\", \"Topic2\", \"Topic2\", \"Topic2\", \"Topic2\", \"Topic2\", \"Topic2\", \"Topic2\", \"Topic2\", \"Topic2\", \"Topic2\", \"Topic2\", \"Topic2\", \"Topic2\", \"Topic2\", \"Topic2\", \"Topic2\", \"Topic2\", \"Topic2\", \"Topic2\", \"Topic2\", \"Topic2\", \"Topic2\", \"Topic2\", \"Topic2\", \"Topic2\", \"Topic2\", \"Topic2\", \"Topic2\", \"Topic2\", \"Topic2\", \"Topic2\", \"Topic2\", \"Topic2\", \"Topic2\", \"Topic2\", \"Topic2\", \"Topic2\", \"Topic2\", \"Topic2\", \"Topic2\", \"Topic2\", \"Topic2\", \"Topic2\", \"Topic2\", \"Topic2\", \"Topic2\", \"Topic2\", \"Topic2\", \"Topic2\", \"Topic2\", \"Topic2\", \"Topic2\", \"Topic2\", \"Topic2\", \"Topic2\", \"Topic2\", \"Topic2\", \"Topic2\", \"Topic2\", \"Topic2\", \"Topic3\", \"Topic3\", \"Topic3\", \"Topic3\", \"Topic3\", \"Topic3\", \"Topic3\", \"Topic3\", \"Topic3\", \"Topic3\", \"Topic3\", \"Topic3\", \"Topic3\", \"Topic3\", \"Topic3\", \"Topic3\", \"Topic3\", \"Topic3\", \"Topic3\", \"Topic3\", \"Topic3\", \"Topic3\", \"Topic3\", \"Topic3\", \"Topic3\", \"Topic3\", \"Topic3\", \"Topic3\", \"Topic3\", \"Topic3\", \"Topic3\", \"Topic3\", \"Topic3\", \"Topic3\", \"Topic3\", \"Topic3\", \"Topic3\", \"Topic3\", \"Topic3\", \"Topic3\", \"Topic3\", \"Topic3\", \"Topic3\", \"Topic3\", \"Topic3\", \"Topic3\", \"Topic3\", \"Topic3\", \"Topic3\", \"Topic3\", \"Topic3\", \"Topic3\", \"Topic3\", \"Topic3\", \"Topic3\", \"Topic3\", \"Topic3\", \"Topic3\", \"Topic3\", \"Topic3\", \"Topic3\", \"Topic3\", \"Topic3\", \"Topic3\", \"Topic3\", \"Topic3\", \"Topic3\", \"Topic3\", \"Topic4\", \"Topic4\", \"Topic4\", \"Topic4\", \"Topic4\", \"Topic4\", \"Topic4\", \"Topic4\", \"Topic4\", \"Topic4\", \"Topic4\", \"Topic4\", \"Topic4\", \"Topic4\", \"Topic4\", \"Topic4\", \"Topic4\", \"Topic4\", \"Topic4\", \"Topic4\", \"Topic4\", \"Topic4\", \"Topic4\", \"Topic4\", \"Topic4\", \"Topic4\", \"Topic4\", \"Topic4\", \"Topic4\", \"Topic4\", \"Topic4\", \"Topic4\", \"Topic4\", \"Topic4\", \"Topic4\", \"Topic4\", \"Topic4\", \"Topic4\", \"Topic4\", \"Topic4\", \"Topic4\", \"Topic4\", \"Topic4\", \"Topic4\", \"Topic4\", \"Topic4\", \"Topic4\", \"Topic4\", \"Topic4\", \"Topic4\", \"Topic4\", \"Topic4\", \"Topic4\", \"Topic4\", \"Topic4\", \"Topic4\", \"Topic4\", \"Topic4\", \"Topic4\", \"Topic4\", \"Topic4\", \"Topic4\", \"Topic4\", \"Topic4\", \"Topic4\", \"Topic4\", \"Topic4\", \"Topic4\", \"Topic5\", \"Topic5\", \"Topic5\", \"Topic5\", \"Topic5\", \"Topic5\", \"Topic5\", \"Topic5\", \"Topic5\", \"Topic5\", \"Topic5\", \"Topic5\", \"Topic5\", \"Topic5\", \"Topic5\", \"Topic5\", \"Topic5\", \"Topic5\", \"Topic5\", \"Topic5\", \"Topic5\", \"Topic5\", \"Topic5\", \"Topic5\", \"Topic5\", \"Topic5\", \"Topic5\", \"Topic5\", \"Topic5\", \"Topic5\", \"Topic5\", \"Topic5\", \"Topic5\", \"Topic5\", \"Topic5\", \"Topic5\", \"Topic5\", \"Topic5\", \"Topic5\", \"Topic5\", \"Topic5\", \"Topic5\", \"Topic5\", \"Topic5\", \"Topic5\", \"Topic5\", \"Topic5\", \"Topic5\", \"Topic5\", \"Topic5\", \"Topic5\", \"Topic5\", \"Topic5\", \"Topic5\", \"Topic5\", \"Topic5\", \"Topic6\", \"Topic6\", \"Topic6\", \"Topic6\", \"Topic6\", \"Topic6\", \"Topic6\", \"Topic6\", \"Topic6\", \"Topic6\", \"Topic6\", \"Topic6\", \"Topic6\", \"Topic6\", \"Topic6\", \"Topic6\", \"Topic6\", \"Topic6\", \"Topic6\", \"Topic6\", \"Topic6\", \"Topic6\", \"Topic6\", \"Topic6\", \"Topic6\", \"Topic6\", \"Topic6\", \"Topic6\", \"Topic6\", \"Topic6\", \"Topic6\", \"Topic6\", \"Topic6\", \"Topic6\", \"Topic6\", \"Topic6\", \"Topic6\", \"Topic6\", \"Topic6\", \"Topic6\", \"Topic6\", \"Topic6\", \"Topic6\", \"Topic6\", \"Topic6\", \"Topic6\", \"Topic6\", \"Topic6\", \"Topic6\", \"Topic6\", \"Topic6\", \"Topic6\", \"Topic6\", \"Topic6\", \"Topic6\", \"Topic6\", \"Topic6\", \"Topic6\", \"Topic6\", \"Topic6\", \"Topic6\", \"Topic6\", \"Topic6\", \"Topic6\", \"Topic6\", \"Topic6\", \"Topic6\", \"Topic6\", \"Topic6\", \"Topic6\", \"Topic6\", \"Topic7\", \"Topic7\", \"Topic7\", \"Topic7\", \"Topic7\", \"Topic7\", \"Topic7\", \"Topic7\", \"Topic7\", \"Topic7\", \"Topic7\", \"Topic7\", \"Topic7\", \"Topic7\", \"Topic7\", \"Topic7\", \"Topic7\", \"Topic7\", \"Topic7\", \"Topic7\", \"Topic7\", \"Topic7\", \"Topic7\", \"Topic7\", \"Topic7\", \"Topic7\", \"Topic7\", \"Topic7\", \"Topic7\", \"Topic7\", \"Topic7\", \"Topic7\", \"Topic7\", \"Topic7\", \"Topic7\", \"Topic7\", \"Topic7\", \"Topic7\", \"Topic7\", \"Topic7\", \"Topic7\", \"Topic7\", \"Topic7\", \"Topic7\", \"Topic7\", \"Topic7\", \"Topic7\", \"Topic7\", \"Topic7\", \"Topic7\", \"Topic7\", \"Topic7\", \"Topic7\", \"Topic7\", \"Topic7\", \"Topic7\", \"Topic7\", \"Topic7\", \"Topic7\", \"Topic7\", \"Topic7\", \"Topic7\", \"Topic7\", \"Topic7\", \"Topic7\", \"Topic7\", \"Topic7\", \"Topic7\", \"Topic7\", \"Topic7\", \"Topic7\", \"Topic7\", \"Topic7\", \"Topic7\", \"Topic7\", \"Topic7\"], \"Freq\": [1541.0, 1445.0, 628.0, 745.0, 624.0, 464.0, 454.0, 832.0, 310.0, 472.0, 384.0, 482.0, 1475.0, 452.0, 392.0, 186.0, 395.0, 801.0, 323.0, 589.0, 198.0, 496.0, 192.0, 398.0, 158.0, 460.0, 273.0, 252.0, 124.0, 227.0, 86.38917541503906, 68.89122772216797, 60.3039436340332, 58.48514938354492, 41.967525482177734, 30.625293731689453, 29.115020751953125, 29.001197814941406, 27.515666961669922, 26.1752872467041, 76.49504852294922, 23.4256591796875, 23.08732795715332, 32.706851959228516, 24.18187713623047, 21.892440795898438, 21.450300216674805, 21.222532272338867, 20.51527214050293, 19.28498077392578, 18.43193244934082, 16.996471405029297, 16.97589111328125, 16.571304321289062, 16.031126022338867, 15.584038734436035, 15.067350387573242, 14.008414268493652, 13.738431930541992, 13.819364547729492, 24.860034942626953, 44.6297492980957, 76.75148010253906, 57.478981018066406, 69.53118133544922, 51.1363639831543, 77.86415100097656, 39.82940673828125, 124.23956298828125, 40.930965423583984, 75.59296417236328, 396.87054443359375, 82.92987823486328, 58.11204528808594, 120.6051254272461, 166.48191833496094, 200.10818481445312, 53.82399368286133, 232.0314483642578, 142.07070922851562, 70.462890625, 83.18234252929688, 89.3725814819336, 224.16213989257812, 66.59491729736328, 54.683807373046875, 132.18580627441406, 127.54442596435547, 94.50456237792969, 71.2737808227539, 67.22512817382812, 59.7567138671875, 66.36811065673828, 81.15141296386719, 67.63775634765625, 62.05422592163086, 61.062294006347656, 627.6388549804688, 453.94140625, 122.86385345458984, 82.9230728149414, 62.98196792602539, 60.380401611328125, 58.173519134521484, 57.4996223449707, 55.96718215942383, 70.02401733398438, 54.51728439331055, 42.6478157043457, 35.0394401550293, 30.696428298950195, 29.02397346496582, 135.41183471679688, 28.185422897338867, 24.92453384399414, 23.810291290283203, 28.252952575683594, 23.133079528808594, 22.64650535583496, 22.4289608001709, 22.053356170654297, 17.77123260498047, 17.863679885864258, 86.48321533203125, 16.679983139038086, 16.679859161376953, 16.38614273071289, 18.943588256835938, 135.22097778320312, 348.5088806152344, 290.3038635253906, 116.90767669677734, 89.60731506347656, 202.67169189453125, 337.6310119628906, 110.51515197753906, 204.2261199951172, 32.9129524230957, 137.25784301757812, 40.67021560668945, 127.78084564208984, 114.28359985351562, 55.0198860168457, 47.28009033203125, 144.04489135742188, 70.4002685546875, 151.17245483398438, 148.5989227294922, 130.6765594482422, 329.0696105957031, 336.36724853515625, 158.4677276611328, 147.56175231933594, 170.93179321289062, 141.4542694091797, 94.96421813964844, 128.79470825195312, 128.27439880371094, 89.35700988769531, 134.3077850341797, 47.947052001953125, 36.43600082397461, 29.28223991394043, 25.070104598999023, 24.139480590820312, 23.241806030273438, 21.277502059936523, 20.395851135253906, 19.255077362060547, 18.323974609375, 16.56009292602539, 36.06867980957031, 14.250178337097168, 13.690709114074707, 12.368290901184082, 12.2910795211792, 11.625182151794434, 11.070038795471191, 58.33119583129883, 10.669668197631836, 10.192022323608398, 9.268022537231445, 8.951231002807617, 8.85685920715332, 8.276865005493164, 8.274569511413574, 8.117629051208496, 8.04951286315918, 10.88317584991455, 16.69158172607422, 59.397560119628906, 121.74481964111328, 51.57551193237305, 982.4556274414062, 346.78472900390625, 46.34744644165039, 54.49458694458008, 54.02363967895508, 287.2657775878906, 33.16437911987305, 89.11856842041016, 569.0735473632812, 31.468828201293945, 58.8345832824707, 203.2138671875, 86.61996459960938, 164.2519989013672, 200.58709716796875, 84.72588348388672, 104.53902435302734, 101.00090789794922, 77.9444351196289, 189.61895751953125, 70.65104675292969, 114.52644348144531, 86.64785766601562, 133.81971740722656, 62.77265167236328, 106.89005279541016, 56.46003723144531, 72.99736785888672, 89.59866333007812, 89.35547637939453, 75.5123062133789, 78.44268798828125, 74.81377410888672, 69.38213348388672, 94.36669921875, 62.75930404663086, 54.7020378112793, 25.91582489013672, 25.291133880615234, 24.064868927001953, 21.81438636779785, 21.315975189208984, 20.500486373901367, 18.600177764892578, 28.466297149658203, 16.308916091918945, 15.793970108032227, 15.795495986938477, 15.43515682220459, 15.297433853149414, 14.520326614379883, 14.142782211303711, 14.120327949523926, 13.606491088867188, 13.426382064819336, 13.332049369812012, 12.60771369934082, 69.90167236328125, 11.553242683410645, 11.33110523223877, 11.321731567382812, 10.905064582824707, 10.615067481994629, 10.392801284790039, 38.56203842163086, 35.26679229736328, 52.47336959838867, 334.3233642578125, 76.42599487304688, 105.73626708984375, 89.34918975830078, 28.190893173217773, 33.467044830322266, 51.65005874633789, 48.08292770385742, 52.18643569946289, 78.96285247802734, 36.56947326660156, 108.45500946044922, 56.52568817138672, 41.13683319091797, 40.707725524902344, 74.74214935302734, 51.624732971191406, 181.39913940429688, 72.22220611572266, 79.84638977050781, 142.86532592773438, 53.880096435546875, 82.68434143066406, 68.0965576171875, 45.36577606201172, 47.560089111328125, 72.13195037841797, 54.74893569946289, 51.54171371459961, 64.12239837646484, 66.82411193847656, 60.40702819824219, 62.947872161865234, 55.49112319946289, 57.4094123840332, 309.5162353515625, 185.64686584472656, 124.15933227539062, 93.25460052490234, 69.2989730834961, 65.21551513671875, 49.528568267822266, 46.551456451416016, 31.137243270874023, 38.43307876586914, 63.348140716552734, 18.971309661865234, 12.924113273620605, 12.604921340942383, 11.805497169494629, 14.189962387084961, 9.102774620056152, 8.436513900756836, 33.54602813720703, 7.833528995513916, 7.738584518432617, 7.725953578948975, 7.374089241027832, 7.207014560699463, 7.091520309448242, 6.575049877166748, 67.3543472290039, 139.54241943359375, 5.925211429595947, 5.914096832275391, 169.9999237060547, 25.88357162475586, 152.42234802246094, 52.32611846923828, 507.7738952636719, 64.2486343383789, 836.1851196289062, 240.90264892578125, 24.40786361694336, 155.74794006347656, 87.46148681640625, 294.94427490234375, 180.5026397705078, 37.933597564697266, 45.0327262878418, 87.62635803222656, 55.500858306884766, 105.27800750732422, 193.27198791503906, 84.00717163085938, 69.02175903320312, 110.41304016113281, 69.46185302734375, 75.2301254272461, 64.90458679199219, 55.99721145629883, 54.90932083129883, 46.363380432128906, 31.3011531829834, 29.52798080444336, 29.28563690185547, 23.266210556030273, 18.013504028320312, 17.282936096191406, 16.336748123168945, 15.619354248046875, 14.219795227050781, 13.965569496154785, 13.738147735595703, 13.614888191223145, 12.777976989746094, 11.342028617858887, 11.15351390838623, 11.074862480163574, 10.72907829284668, 20.46539306640625, 8.883618354797363, 8.80949592590332, 8.683170318603516, 8.422884941101074, 8.316885948181152, 53.096317291259766, 8.299972534179688, 7.841447353363037, 8.06028938293457, 7.559842586517334, 33.30677795410156, 41.94810104370117, 43.683006286621094, 23.473915100097656, 34.867210388183594, 34.508113861083984, 40.82912063598633, 30.682493209838867, 44.23963928222656, 56.48225021362305, 35.338279724121094, 22.767597198486328, 55.5094108581543, 31.67778778076172, 30.42186164855957, 191.92022705078125, 62.187095642089844, 164.03721618652344, 33.36809158325195, 139.4687957763672, 93.20023345947266, 139.42291259765625, 178.10487365722656, 30.511669158935547, 181.68167114257812, 56.00339126586914, 53.714420318603516, 96.99677276611328, 72.39189910888672, 46.062400817871094, 114.57699584960938, 69.87255859375, 43.91185760498047, 47.38949966430664, 52.671058654785156, 45.76890563964844, 53.75529098510742, 39.98537063598633, 48.020851135253906, 43.97126770019531, 42.528438568115234, 49.70354461669922, 36.126895904541016, 25.773183822631836, 19.221969604492188, 18.0418701171875, 15.176173210144043, 12.228282928466797, 12.140228271484375, 11.108718872070312, 10.966775894165039, 10.700921058654785, 10.067931175231934, 10.006013870239258, 9.481806755065918, 8.853713989257812, 8.732467651367188, 8.613341331481934, 8.46928882598877, 8.287757873535156, 8.206523895263672, 8.022974967956543, 8.10080337524414, 7.953824043273926, 7.8780646324157715, 7.671474456787109, 7.336610317230225, 6.540618896484375, 54.07868576049805, 6.238310813903809, 6.289749622344971, 12.491995811462402, 27.186155319213867, 56.02177429199219, 31.141082763671875, 332.7354736328125, 11.041152000427246, 347.6099853515625, 33.46947479248047, 18.198049545288086, 111.91905212402344, 44.53289794921875, 78.47166442871094, 20.92913246154785, 14.053443908691406, 286.6517333984375, 14.782917976379395, 34.65953063964844, 25.788249969482422, 20.777772903442383, 78.90327453613281, 32.47492980957031, 75.12139129638672, 97.85590362548828, 36.46373748779297, 204.31655883789062, 25.259979248046875, 30.27405548095703, 33.13728332519531, 76.24462127685547, 57.593055725097656, 33.03647994995117, 68.86133575439453, 53.58457565307617, 41.084075927734375, 103.45198822021484, 79.29705810546875, 49.86153793334961, 41.50885009765625, 53.812618255615234, 43.26314163208008, 49.94222640991211, 48.207435607910156, 37.80419921875, 39.015113830566406, 38.108863830566406, 37.17856216430664], \"Term\": [\"love\", \"tablet\", \"echo\", \"bought\", \"read\", \"book\", \"alexa\", \"kindl\", \"gift\", \"kid\", \"show\", \"price\", \"great\", \"fire\", \"music\", \"christma\", \"old\", \"one\", \"sound\", \"work\", \"daughter\", \"app\", \"son\", \"game\", \"wife\", \"screen\", \"got\", \"home\", \"grandson\", \"speaker\", \"version\", \"oasi\", \"paperwhit\", \"laptop\", \"facebook\", \"mini\", \"appear\", \"night\", \"lighter\", \"adjust\", \"page\", \"beginn\", \"wireless\", \"ago\", \"mode\", \"junk\", \"clariti\", \"automat\", \"white\", \"lower\", \"heavi\", \"brand\", \"ye\", \"keyboard\", \"there\", \"swipe\", \"shape\", \"imposs\", \"ill\", \"unfortun\", \"miss\", \"quit\", \"cover\", \"week\", \"hold\", \"larger\", \"hand\", \"faster\", \"charg\", \"almost\", \"upgrad\", \"kindl\", \"last\", \"someth\", \"batteri\", \"light\", \"screen\", \"older\", \"read\", \"much\", \"reader\", \"turn\", \"dont\", \"one\", \"long\", \"easier\", \"fire\", \"book\", \"better\", \"first\", \"day\", \"back\", \"still\", \"use\", \"bought\", \"best\", \"devic\", \"echo\", \"alexa\", \"dot\", \"weather\", \"kitchen\", \"bulb\", \"hub\", \"recip\", \"hue\", \"voic\", \"answer\", \"song\", \"command\", \"lyric\", \"autom\", \"ask\", \"alarm\", \"ring\", \"cook\", \"skill\", \"visual\", \"radio\", \"bedroom\", \"chat\", \"brief\", \"lose\", \"question\", \"morn\", \"philip\", \"becom\", \"doorbel\", \"smart\", \"show\", \"sound\", \"hous\", \"room\", \"speaker\", \"music\", \"listen\", \"home\", \"hook\", \"famili\", \"list\", \"plu\", \"fun\", \"tell\", \"talk\", \"thing\", \"call\", \"light\", \"set\", \"video\", \"great\", \"love\", \"product\", \"devic\", \"amazon\", \"play\", \"abl\", \"use\", \"work\", \"featur\", \"hd\", \"surf\", \"netflix\", \"inch\", \"inexpens\", \"plenti\", \"past\", \"beauti\", \"altern\", \"law\", \"left\", \"toddler\", \"space\", \"father\", \"teenag\", \"geek\", \"applic\", \"period\", \"stock\", \"web\", \"social\", \"rear\", \"superb\", \"necessari\", \"downfal\", \"membership\", \"squad\", \"damag\", \"exceed\", \"onto\", \"media\", \"storag\", \"ipad\", \"beat\", \"tablet\", \"price\", \"gb\", \"email\", \"valu\", \"fire\", \"mother\", \"movi\", \"great\", \"school\", \"money\", \"app\", \"cant\", \"game\", \"work\", \"need\", \"perfect\", \"size\", \"download\", \"amazon\", \"store\", \"well\", \"littl\", \"use\", \"internet\", \"play\", \"color\", \"recommend\", \"purchas\", \"bought\", \"kid\", \"one\", \"love\", \"kindl\", \"tap\", \"voyag\", \"protect\", \"held\", \"worri\", \"young\", \"port\", \"box\", \"profil\", \"grandchildren\", \"grand\", \"recharg\", \"starter\", \"monitor\", \"appropri\", \"reliabl\", \"girl\", \"outstand\", \"ride\", \"boy\", \"transfer\", \"variou\", \"complic\", \"portabl\", \"test\", \"manual\", \"strong\", \"advantag\", \"readabl\", \"short\", \"warranti\", \"trip\", \"child\", \"kid\", \"parent\", \"learn\", \"case\", \"break\", \"afford\", \"wish\", \"around\", \"drop\", \"control\", \"entertain\", \"set\", \"keep\", \"wifi\", \"limit\", \"littl\", \"free\", \"great\", \"thing\", \"buy\", \"tablet\", \"still\", \"app\", \"best\", \"problem\", \"life\", \"product\", \"batteri\", \"charg\", \"play\", \"bought\", \"purchas\", \"one\", \"well\", \"amazon\", \"gift\", \"christma\", \"grandson\", \"granddaught\", \"mom\", \"yr\", \"birthday\", \"present\", \"niec\", \"nephew\", \"absolut\", \"dad\", \"recipi\", \"four\", \"he\", \"brother\", \"boyfriend\", \"xma\", \"bigger\", \"steal\", \"youngest\", \"process\", \"fianc\", \"dog\", \"girlfriend\", \"obviou\", \"friendli\", \"wife\", \"worthless\", \"even\", \"daughter\", \"sister\", \"son\", \"gave\", \"bought\", \"like\", \"love\", \"old\", \"she\", \"got\", \"happi\", \"one\", \"purchas\", \"husband\", \"user\", \"enjoy\", \"two\", \"game\", \"tablet\", \"play\", \"much\", \"great\", \"product\", \"kindl\", \"use\", \"kid\", \"servic\", \"slow\", \"high\", \"requir\", \"main\", \"menu\", \"font\", \"bottom\", \"intuit\", \"processor\", \"speak\", \"associ\", \"suppos\", \"buck\", \"imag\", \"freez\", \"build\", \"sharp\", \"surfac\", \"otherwis\", \"certainli\", \"block\", \"window\", \"newstand\", \"student\", \"android\", \"besid\", \"disabl\", \"guy\", \"effici\", \"bad\", \"magazin\", \"fine\", \"difficult\", \"anyon\", \"photo\", \"instal\", \"youtub\", \"view\", \"sale\", \"oper\", \"believ\", \"doesnt\", \"complaint\", \"run\", \"work\", \"googl\", \"app\", \"order\", \"devic\", \"recommend\", \"screen\", \"amazon\", \"star\", \"great\", \"connect\", \"store\", \"product\", \"well\", \"prime\", \"tablet\", \"price\", \"problem\", \"camera\", \"look\", \"item\", \"video\", \"issu\", \"best\", \"qualiti\", \"home\", \"carri\", \"sd\", \"nook\", \"hdx\", \"shut\", \"avid\", \"goe\", \"troubl\", \"crisp\", \"meet\", \"sleek\", \"share\", \"slot\", \"terribl\", \"cartoon\", \"bn\", \"flip\", \"prior\", \"micro\", \"state\", \"anybodi\", \"begin\", \"xbox\", \"safeguard\", \"slower\", \"six\", \"factor\", \"card\", \"daughterinlaw\", \"met\", \"request\", \"compact\", \"fit\", \"place\", \"book\", \"serv\", \"read\", \"librari\", \"graphic\", \"watch\", \"second\", \"small\", \"text\", \"usag\", \"kindl\", \"crack\", \"addit\", \"brows\", \"purs\", \"size\", \"favorit\", \"perfect\", \"game\", \"model\", \"love\", \"exactli\", \"conveni\", \"big\", \"play\", \"got\", \"sever\", \"use\", \"video\", \"replac\", \"great\", \"one\", \"better\", \"download\", \"screen\", \"look\", \"purchas\", \"product\", \"movi\", \"im\", \"enjoy\", \"need\"], \"Total\": [1541.0, 1445.0, 628.0, 745.0, 624.0, 464.0, 454.0, 832.0, 310.0, 472.0, 384.0, 482.0, 1475.0, 452.0, 392.0, 186.0, 395.0, 801.0, 323.0, 589.0, 198.0, 496.0, 192.0, 398.0, 158.0, 460.0, 273.0, 252.0, 124.0, 227.0, 87.22650146484375, 69.72394561767578, 61.13689422607422, 59.321292877197266, 42.804786682128906, 31.46137237548828, 29.948774337768555, 29.835092544555664, 28.348777770996094, 27.008975982666016, 79.03254699707031, 24.260679244995117, 23.920806884765625, 33.92173385620117, 25.086002349853516, 22.725019454956055, 22.285419464111328, 22.05727767944336, 21.348304748535156, 20.119365692138672, 19.266260147094727, 17.833831787109375, 17.81311798095703, 17.4055118560791, 16.865802764892578, 16.418352127075195, 15.901674270629883, 14.841501235961914, 14.571813583374023, 14.658562660217285, 26.724735260009766, 49.16890335083008, 89.10419464111328, 66.57025909423828, 82.33509063720703, 59.67228317260742, 100.89563751220703, 47.292564392089844, 177.76710510253906, 49.45255661010742, 104.37149047851562, 832.2421875, 123.63218688964844, 79.2326431274414, 209.3489990234375, 340.35107421875, 460.2971496582031, 77.98463439941406, 624.8602294921875, 339.79638671875, 119.00955200195312, 160.01239013671875, 180.93063354492188, 801.9144287109375, 113.05022430419922, 82.12843322753906, 452.5115661621094, 464.7174072265625, 287.58392333984375, 175.43997192382812, 157.9444122314453, 109.40679168701172, 167.45997619628906, 480.1138000488281, 745.4480590820312, 323.3314514160156, 435.999267578125, 628.4129028320312, 454.7291564941406, 123.62890625, 83.68861389160156, 63.74661636352539, 61.14467239379883, 58.938072204589844, 58.26422882080078, 56.731571197509766, 71.00592041015625, 55.2818717956543, 43.41242980957031, 35.80443572998047, 31.46087074279785, 29.7891845703125, 139.04408264160156, 28.958606719970703, 25.68911361694336, 24.57467269897461, 29.170791625976562, 23.898141860961914, 23.411901473999023, 23.193239212036133, 22.891048431396484, 18.535619735717773, 18.634035110473633, 90.25267028808594, 17.444143295288086, 17.44403648376465, 17.153749465942383, 19.852807998657227, 145.5220184326172, 384.33172607421875, 323.99249267578125, 127.78881072998047, 98.1965560913086, 227.8622283935547, 392.1308288574219, 125.8784408569336, 252.08168029785156, 35.1903076171875, 174.71414184570312, 44.95393753051758, 171.55213928222656, 155.73641967773438, 67.21636199951172, 56.11041259765625, 289.045166015625, 101.54434967041016, 340.35107421875, 337.9232482910156, 278.7396240234375, 1475.6055908203125, 1541.3614501953125, 502.1127014160156, 435.999267578125, 676.940673828125, 488.3069763183594, 195.69757080078125, 480.1138000488281, 589.0380859375, 226.04013061523438, 135.15049743652344, 48.78984069824219, 37.33047866821289, 30.148380279541016, 25.914302825927734, 24.98211669921875, 24.086809158325195, 22.13178825378418, 21.239398956298828, 20.098512649536133, 19.17485809326172, 17.409175872802734, 38.054466247558594, 15.093101501464844, 14.53335952758789, 13.211821556091309, 13.135171890258789, 12.477457046508789, 11.912808418273926, 62.91533279418945, 11.512030601501465, 11.034547805786133, 10.11635971069336, 9.801892280578613, 9.700040817260742, 9.119617462158203, 9.11837387084961, 8.960389137268066, 8.891669273376465, 12.03713321685791, 18.503366470336914, 69.33733367919922, 148.3118896484375, 61.75258255004883, 1445.4501953125, 482.5357666015625, 58.36677551269531, 69.7854995727539, 69.3326187133789, 452.5115661621094, 41.538238525390625, 140.2564697265625, 1475.6055908203125, 42.04170608520508, 95.4000244140625, 496.38604736328125, 163.94073486328125, 398.1560974121094, 589.0380859375, 177.96588134765625, 255.38543701171875, 247.92050170898438, 167.44744873046875, 676.940673828125, 145.833740234375, 340.5766906738281, 216.35232543945312, 480.1138000488281, 129.79156494140625, 488.3069763183594, 106.67320251464844, 240.06207275390625, 519.5284423828125, 745.4480590820312, 472.8636779785156, 801.9144287109375, 1541.3614501953125, 832.2421875, 95.17998504638672, 63.574684143066406, 55.51470184326172, 26.729942321777344, 26.103683471679688, 24.876367568969727, 22.626657485961914, 22.127695083618164, 21.312204360961914, 19.412858963012695, 29.73259162902832, 17.121524810791016, 16.60563087463379, 16.61027717590332, 16.246604919433594, 16.110370635986328, 15.33263111114502, 14.954806327819824, 14.933623313903809, 14.41854190826416, 14.239395141601562, 14.145416259765625, 13.419083595275879, 74.7779769897461, 12.365145683288574, 12.143608093261719, 12.13735294342041, 11.718965530395508, 11.428877830505371, 11.205294609069824, 42.27748107910156, 39.883087158203125, 62.18431854248047, 472.8636779785156, 103.170166015625, 163.0498504638672, 141.72119140625, 36.34236526489258, 45.209651947021484, 84.72693634033203, 78.48316192626953, 90.634033203125, 165.9608612060547, 58.314998626708984, 337.9232482910156, 124.63702392578125, 75.81092834472656, 75.69403839111328, 216.35232543945312, 115.6868667602539, 1475.6055908203125, 289.045166015625, 361.4350280761719, 1445.4501953125, 167.45997619628906, 496.38604736328125, 323.3314514160156, 110.59308624267578, 131.37216186523438, 502.1127014160156, 209.3489990234375, 177.76710510253906, 488.3069763183594, 745.4480590820312, 519.5284423828125, 801.9144287109375, 340.5766906738281, 676.940673828125, 310.347900390625, 186.4774627685547, 124.99922943115234, 94.0859146118164, 70.13341522216797, 66.05450439453125, 50.358177185058594, 47.38121795654297, 31.96763801574707, 39.51445007324219, 66.09223175048828, 19.802160263061523, 13.753602981567383, 13.43657112121582, 12.63698959350586, 15.327404022216797, 9.93283748626709, 9.266573905944824, 37.02328109741211, 8.664669036865234, 8.568709373474121, 8.560568809509277, 8.216737747192383, 8.03795051574707, 7.92289400100708, 7.404207706451416, 75.9166259765625, 158.1248321533203, 6.756725311279297, 6.749207496643066, 198.15472412109375, 29.94110107421875, 192.42457580566406, 64.60316467285156, 745.4480590820312, 87.54801940917969, 1541.3614501953125, 395.2021484375, 30.722515106201172, 273.28173828125, 158.44271850585938, 801.9144287109375, 519.5284423828125, 60.9047966003418, 85.74232482910156, 251.026123046875, 122.72965240478516, 398.1560974121094, 1445.4501953125, 488.3069763183594, 339.79638671875, 1475.6055908203125, 502.1127014160156, 832.2421875, 480.1138000488281, 472.8636779785156, 55.87302780151367, 47.189727783203125, 32.12651443481445, 30.356435775756836, 30.114013671875, 24.089553833007812, 18.838481903076172, 18.10728645324707, 17.162321090698242, 16.44453239440918, 15.044940948486328, 14.789071083068848, 14.562569618225098, 14.440264701843262, 13.603589057922363, 12.167061805725098, 11.979413986206055, 11.900030136108398, 11.55390453338623, 22.188339233398438, 9.70849609375, 9.632598876953125, 9.510976791381836, 9.245986938476562, 9.140445709228516, 58.359920501708984, 9.129146575927734, 8.665017127990723, 8.92538070678711, 8.383060455322266, 38.08507537841797, 48.51846694946289, 52.26693344116211, 27.432077407836914, 43.96796417236328, 43.67671203613281, 52.91080856323242, 38.94666290283203, 59.56809616088867, 81.12630462646484, 52.95353317260742, 30.219757080078125, 96.90653228759766, 47.12361145019531, 45.06258010864258, 589.0380859375, 121.70674896240234, 496.38604736328125, 51.793731689453125, 435.999267578125, 240.06207275390625, 460.2971496582031, 676.940673828125, 47.222694396972656, 1475.6055908203125, 157.72344970703125, 145.833740234375, 502.1127014160156, 340.5766906738281, 115.9284439086914, 1445.4501953125, 482.5357666015625, 110.59308624267578, 151.8414306640625, 233.84352111816406, 137.56871032714844, 278.7396240234375, 92.83491516113281, 323.3314514160156, 194.10653686523438, 252.08168029785156, 50.54073715209961, 36.96376419067383, 26.609638214111328, 20.061384201049805, 18.879499435424805, 16.013450622558594, 13.069870948791504, 12.984601020812988, 11.946690559387207, 11.802858352661133, 11.538593292236328, 10.908915519714355, 10.842362403869629, 10.321222305297852, 9.6910982131958, 9.56881046295166, 9.458436965942383, 9.306294441223145, 9.124361038208008, 9.043886184692383, 8.860846519470215, 8.947603225708008, 8.7901611328125, 8.714984893798828, 8.510127067565918, 8.175226211547852, 7.380326747894287, 61.250545501708984, 7.0739665031433105, 7.132445812225342, 14.266439437866211, 31.85891342163086, 68.286865234375, 37.04704666137695, 464.7174072265625, 12.6696195602417, 624.8602294921875, 45.240116119384766, 22.846952438354492, 189.63946533203125, 65.99128723144531, 130.4849853515625, 27.38572120666504, 16.992843627929688, 832.2421875, 18.681013107299805, 58.30550765991211, 40.0966796875, 31.511367797851562, 247.92050170898438, 63.638832092285156, 255.38543701171875, 398.1560974121094, 83.66494750976562, 1541.3614501953125, 45.78736114501953, 62.565242767333984, 75.06898498535156, 488.3069763183594, 273.28173828125, 85.07057189941406, 480.1138000488281, 278.7396240234375, 145.60781860351562, 1475.6055908203125, 801.9144287109375, 287.58392333984375, 167.44744873046875, 460.2971496582031, 233.84352111816406, 519.5284423828125, 502.1127014160156, 140.2564697265625, 221.0263671875, 251.026123046875, 177.96588134765625], \"loglift\": [30.0, 29.0, 28.0, 27.0, 26.0, 25.0, 24.0, 23.0, 22.0, 21.0, 20.0, 19.0, 18.0, 17.0, 16.0, 15.0, 14.0, 13.0, 12.0, 11.0, 10.0, 9.0, 8.0, 7.0, 6.0, 5.0, 4.0, 3.0, 2.0, 1.0, 1.611199975013733, 1.6088000535964966, 1.607100009918213, 1.606600046157837, 1.601099967956543, 1.5938999652862549, 1.5925999879837036, 1.5924999713897705, 1.590999960899353, 1.5894999504089355, 1.5881999731063843, 1.585800051689148, 1.5853999853134155, 1.5844000577926636, 1.5841000080108643, 1.5835000276565552, 1.5825999975204468, 1.582200050354004, 1.5809999704360962, 1.5785000324249268, 1.5765999555587769, 1.572700023651123, 1.572700023651123, 1.5716999769210815, 1.570099949836731, 1.5686999559402466, 1.5669000148773193, 1.563099980354309, 1.561900019645691, 1.561900019645691, 1.5484999418258667, 1.5240000486373901, 1.47160005569458, 1.4739999771118164, 1.451799988746643, 1.4665000438690186, 1.3617000579833984, 1.4491000175476074, 1.2625999450683594, 1.4316999912261963, 1.298200011253357, 0.880299985408783, 1.221500039100647, 1.3107999563217163, 1.0693000555038452, 0.9057000279426575, 0.7878000140190125, 1.25, 0.6302000284194946, 0.7487999796867371, 1.0966999530792236, 0.9666000008583069, 0.9154999852180481, 0.34619998931884766, 1.091599941253662, 1.2141000032424927, 0.3901999890804291, 0.3278999924659729, 0.5080000162124634, 0.7200999855995178, 0.7666000127792358, 1.0160000324249268, 0.6952999830245972, -0.15690000355243683, -0.7789999842643738, -0.02979999966919422, -0.3449000120162964, 1.6232999563217163, 1.6227999925613403, 1.618299961090088, 1.6153000593185425, 1.6124000549316406, 1.611899971961975, 1.6115000247955322, 1.611299991607666, 1.6109999418258667, 1.6105999946594238, 1.6105999946594238, 1.6066999435424805, 1.6029000282287598, 1.5999000072479248, 1.5985000133514404, 1.5980000495910645, 1.597499966621399, 1.5943000316619873, 1.592900037765503, 1.5924999713897705, 1.5920000076293945, 1.5913000106811523, 1.590999960899353, 1.5872000455856323, 1.5823999643325806, 1.5822999477386475, 1.5819000005722046, 1.579699993133545, 1.579699993133545, 1.5786999464035034, 1.5776000022888184, 1.5511000156402588, 1.5267000198364258, 1.5147000551223755, 1.5355000495910645, 1.5329999923706055, 1.5074000358581543, 1.4749000072479248, 1.4944000244140625, 1.4140000343322754, 1.5576000213623047, 1.3832000494003296, 1.524399995803833, 1.3299000263214111, 1.315000057220459, 1.424299955368042, 1.4532999992370605, 0.9280999898910522, 1.2582000494003296, 0.8130000233650208, 0.8029000163078308, 0.8669999837875366, 0.12399999797344208, 0.1023000031709671, 0.47119998931884766, 0.541100025177002, 0.24819999933242798, 0.3855000138282776, 0.9014000296592712, 0.30869999527931213, 0.10019999742507935, 0.696399986743927, 1.8085999488830566, 1.7973999977111816, 1.7905999422073364, 1.7856999635696411, 1.7817000150680542, 1.780500054359436, 1.779099941253662, 1.7755000591278076, 1.7742999792099, 1.7719999551773071, 1.7695000171661377, 1.764799952507019, 1.761199951171875, 1.7574000358581543, 1.7551000118255615, 1.748900055885315, 1.7483999729156494, 1.7440999746322632, 1.7415000200271606, 1.7391999959945679, 1.7388999462127686, 1.7353999614715576, 1.7273000478744507, 1.7240999937057495, 1.7238999605178833, 1.717900037765503, 1.7177000045776367, 1.7160999774932861, 1.7152999639511108, 1.7141000032424927, 1.7117999792099, 1.660099983215332, 1.6174999475479126, 1.6347999572753906, 1.4286999702453613, 1.4845000505447388, 1.5843000411987305, 1.5674999952316284, 1.5652999877929688, 1.3603999614715576, 1.5896999835968018, 1.361299991607666, 0.8619999885559082, 1.5252000093460083, 1.3315000534057617, 0.9217000007629395, 1.176900029182434, 0.9294000267982483, 0.7376000285148621, 1.072700023651123, 0.9215999841690063, 0.9168999791145325, 1.0501999855041504, 0.5422999858856201, 1.0901000499725342, 0.7250000238418579, 0.8998000025749207, 0.5372999906539917, 1.0884000062942505, 0.2957000136375427, 1.1785999536514282, 0.6244000196456909, 0.05730000138282776, -0.30649998784065247, -0.019700000062584877, -0.5098000168800354, -1.2106000185012817, -0.669700026512146, 2.1540000438690186, 2.149600028991699, 2.1477999687194824, 2.1315999031066895, 2.1308999061584473, 2.1294000148773193, 2.125999927520752, 2.125200033187866, 2.123699903488159, 2.119800090789795, 2.11899995803833, 2.1138999462127686, 2.1124000549316406, 2.112299919128418, 2.111299991607666, 2.11080002784729, 2.108099937438965, 2.1066999435424805, 2.1064999103546143, 2.104599952697754, 2.103800058364868, 2.103300094604492, 2.1001999378204346, 2.095099925994873, 2.094599962234497, 2.0933001041412354, 2.0929999351501465, 2.09060001373291, 2.08870005607605, 2.0873000621795654, 2.0706000328063965, 2.0394999980926514, 1.992799997329712, 1.8158999681472778, 1.8624999523162842, 1.7294000387191772, 1.701200008392334, 1.9085999727249146, 1.861799955368042, 1.6676000356674194, 1.6726000308990479, 1.6104999780654907, 1.419800043106079, 1.6958999633789062, 1.0261000394821167, 1.3717999458312988, 1.551200032234192, 1.5422999858856201, 1.0996999740600586, 1.3557000160217285, 0.06639999896287918, 0.7756999731063843, 0.6525999903678894, -0.1517000049352646, 1.0285999774932861, 0.3702000081539154, 0.6047999858856201, 1.2714999914169312, 1.1464999914169312, 0.22220000624656677, 0.8213000297546387, 0.9244999885559082, 0.1324000060558319, -0.24940000474452972, 0.010700000450015068, -0.382099986076355, 0.3481000065803528, -0.30480000376701355, 2.174999952316284, 2.1731998920440674, 2.1709001064300537, 2.168800115585327, 2.1656999588012695, 2.164900064468384, 2.161099910736084, 2.1600000858306885, 2.151400089263916, 2.149899959564209, 2.1352999210357666, 2.1347999572753906, 2.115499973297119, 2.113800048828125, 2.109600067138672, 2.100600004196167, 2.090399980545044, 2.0838000774383545, 2.0790998935699463, 2.0768001079559326, 2.0757999420166016, 2.0750999450683594, 2.069499969482422, 2.0685999393463135, 2.066800117492676, 2.0589001178741455, 2.058000087738037, 2.0527000427246094, 2.0464000701904297, 2.045599937438965, 2.024399995803833, 2.032099962234497, 1.944599986076355, 1.9668999910354614, 1.7936999797821045, 1.868299961090088, 1.566100001335144, 1.6827000379562378, 1.94760000705719, 1.615399956703186, 1.5835000276565552, 1.1775000095367432, 1.1204999685287476, 1.704200029373169, 1.5336999893188477, 1.1252000331878662, 1.3840999603271484, 0.8474000096321106, 0.1656000018119812, 0.41760000586509705, 0.5838000178337097, -0.414900004863739, 0.1995999962091446, -0.22589999437332153, 0.17659999430179596, 0.044199999421834946, 2.1842000484466553, 2.1839001178741455, 2.17549991607666, 2.1738998889923096, 2.1737000942230225, 2.166800022125244, 2.1568000316619873, 2.1549999713897705, 2.1522998809814453, 2.150099992752075, 2.14520001411438, 2.1442999839782715, 2.1433000564575195, 2.142699956893921, 2.1389999389648438, 2.1314001083374023, 2.1301000118255615, 2.129699945449829, 2.127500057220459, 2.120699882507324, 2.112799882888794, 2.1122000217437744, 2.1105000972747803, 2.108299970626831, 2.107100009918213, 2.1070001125335693, 2.106300115585327, 2.1017000675201416, 2.099600076675415, 2.0982000827789307, 2.067500114440918, 2.0560998916625977, 2.022200107574463, 2.0457000732421875, 1.9696999788284302, 1.96589994430542, 1.9423999786376953, 1.9630999565124512, 1.904099941253662, 1.8394999504089355, 1.7970999479293823, 1.9184000492095947, 1.6444000005722046, 1.8043999671936035, 1.8086999654769897, 1.080199956893921, 1.5300999879837036, 1.0943000316619873, 1.7618999481201172, 1.0618000030517578, 1.2553999423980713, 1.007200002670288, 0.8664000034332275, 1.764799952507019, 0.10700000077486038, 1.166100025177002, 1.2028000354766846, 0.5573999881744385, 0.652999997138977, 1.2785999774932861, -0.33340001106262207, 0.26919999718666077, 1.277899980545044, 1.0370999574661255, 0.7110000252723694, 1.101099967956543, 0.5557000041007996, 1.3593000173568726, 0.2944999933242798, 0.71670001745224, 0.421999990940094, 2.25219988822937, 2.246000051498413, 2.2369000911712646, 2.226099967956543, 2.2235000133514404, 2.2151999473571777, 2.2023000717163086, 2.2016000747680664, 2.1960999965667725, 2.1953999996185303, 2.19350004196167, 2.1886000633239746, 2.1886000633239746, 2.184000015258789, 2.178499937057495, 2.1774001121520996, 2.175299882888794, 2.1745998859405518, 2.1726999282836914, 2.1717000007629395, 2.1695001125335693, 2.1693999767303467, 2.1689000129699707, 2.1679000854492188, 2.16510009765625, 2.160599946975708, 2.148099899291992, 2.1442999839782715, 2.1431000232696533, 2.1431000232696533, 2.135999917984009, 2.1101999282836914, 2.0708999633789062, 2.0952000617980957, 1.9348000288009644, 2.1312999725341797, 1.6823999881744385, 1.9674999713897705, 2.0413999557495117, 1.7415000200271606, 1.875599980354309, 1.7603000402450562, 2.0, 2.078900098800659, 1.2029999494552612, 2.0348000526428223, 1.7487000226974487, 1.8274999856948853, 1.8523999452590942, 1.1239999532699585, 1.5960999727249146, 1.045199990272522, 0.8654999732971191, 1.4384000301361084, 0.24809999763965607, 1.6741000413894653, 1.5428999662399292, 1.4510999917984009, 0.41190001368522644, 0.7117999792098999, 1.3229999542236328, 0.32690000534057617, 0.6197999715805054, 1.003600001335144, -0.3889000117778778, -0.04490000009536743, 0.5166000127792358, 0.8741000294685364, 0.12250000238418579, 0.5814999938011169, -0.07320000231266022, -0.07450000196695328, 0.9577999711036682, 0.534500002861023, 0.38370001316070557, 0.703000009059906], \"logprob\": [30.0, 29.0, 28.0, 27.0, 26.0, 25.0, 24.0, 23.0, 22.0, 21.0, 20.0, 19.0, 18.0, 17.0, 16.0, 15.0, 14.0, 13.0, 12.0, 11.0, 10.0, 9.0, 8.0, 7.0, 6.0, 5.0, 4.0, 3.0, 2.0, 1.0, -5.060800075531006, -5.287199974060059, -5.420300006866455, -5.450900077819824, -5.782800197601318, -6.097899913787842, -6.148399829864502, -6.152400016784668, -6.204899787902832, -6.254899978637695, -5.182499885559082, -6.365900039672852, -6.38040018081665, -6.032100200653076, -6.334099769592285, -6.433599948883057, -6.453999996185303, -6.464600086212158, -6.498499870300293, -6.560400009155273, -6.605599880218506, -6.686699867248535, -6.687900066375732, -6.711999893188477, -6.745200157165527, -6.773499965667725, -6.807199954986572, -6.880000114440918, -6.899499893188477, -6.893599987030029, -6.306399822235107, -5.72130012512207, -5.179100036621094, -5.468299865722656, -5.277900218963623, -5.58519983291626, -5.164700031280518, -5.835100173950195, -4.697500228881836, -5.807799816131592, -5.194300174713135, -3.536099910736084, -5.1016998291015625, -5.457300186157227, -4.727200031280518, -4.404799938201904, -4.220799922943115, -5.533999919891357, -4.072800159454346, -4.563399791717529, -5.264599800109863, -5.098700046539307, -5.026899814605713, -4.1072998046875, -5.321100234985352, -5.518099784851074, -4.635499954223633, -4.671199798583984, -4.971099853515625, -5.253200054168701, -5.311699867248535, -5.4293999671936035, -5.32450008392334, -5.1234002113342285, -5.305500030517578, -5.39169979095459, -5.407800197601318, -3.0739998817443848, -3.3980000019073486, -4.704899787902832, -5.098100185394287, -5.373199939727783, -5.415299892425537, -5.452600002288818, -5.464200019836426, -5.491199970245361, -5.267199993133545, -5.517499923706055, -5.763000011444092, -5.959499835968018, -6.091899871826172, -6.147900104522705, -4.607699871063232, -6.177199840545654, -6.30019998550415, -6.345900058746338, -6.174799919128418, -6.37470006942749, -6.395999908447266, -6.405700206756592, -6.422500133514404, -6.638400077819824, -6.633200168609619, -5.056099891662598, -6.7017998695373535, -6.7017998695373535, -6.719600200653076, -6.57450008392334, -4.609099864959717, -3.6623001098632812, -3.845099925994873, -4.7546000480651855, -5.020599842071533, -4.204400062561035, -3.6940999031066895, -4.8109002113342285, -4.196800231933594, -6.02209997177124, -4.594099998474121, -5.810500144958496, -4.6656999588012695, -4.777299880981445, -5.508299827575684, -5.659900188446045, -4.545899868011475, -5.2617998123168945, -4.497600078582764, -4.514800071716309, -4.6433000564575195, -3.7197000980377197, -3.6977999210357666, -4.450500011444092, -4.5218000411987305, -4.37470006942749, -4.564000129699707, -4.962500095367432, -4.657800197601318, -4.661799907684326, -5.023399829864502, -4.42549991607666, -5.455599784851074, -5.730100154876709, -5.948699951171875, -6.104000091552734, -6.1417999267578125, -6.179699897766113, -6.26800012588501, -6.310400009155273, -6.3678998947143555, -6.417500019073486, -6.518700122833252, -5.740300178527832, -6.668900012969971, -6.709000110626221, -6.810500144958496, -6.816800117492676, -6.872499942779541, -6.92140007019043, -5.259500026702881, -6.9583001136779785, -7.0040998458862305, -7.099100112915039, -7.133900165557861, -7.144499778747559, -7.212200164794922, -7.212500095367432, -7.231599807739258, -7.240099906921387, -6.938499927520752, -6.510799884796143, -5.241399765014648, -4.523799896240234, -5.382599830627441, -2.4356000423431396, -3.4769999980926514, -5.489500045776367, -5.327600002288818, -5.336299896240234, -3.665299892425537, -5.82420015335083, -4.835700035095215, -2.9816999435424805, -5.876699924468994, -5.250999927520752, -4.01140022277832, -4.864200115203857, -4.224299907684326, -4.024400234222412, -4.886300086975098, -4.67609977722168, -4.710599899291992, -4.969699859619141, -4.080699920654297, -5.06790018081665, -4.58489990234375, -4.863800048828125, -4.429200172424316, -5.186200141906738, -4.653900146484375, -5.292099952697754, -5.035299777984619, -4.8302998542785645, -4.833099842071533, -5.001399993896484, -4.9633002281188965, -5.010700225830078, -5.086100101470947, -4.430799961090088, -4.838699817657471, -4.976099967956543, -5.723100185394287, -5.747499942779541, -5.7972002029418945, -5.895400047302246, -5.918499946594238, -5.957499980926514, -6.054800033569336, -5.629300117492676, -6.186299800872803, -6.218299865722656, -6.218200206756592, -6.241300106048584, -6.25029993057251, -6.3024001121521, -6.328800201416016, -6.330399990081787, -6.367400169372559, -6.380799770355225, -6.387800216674805, -6.443699836730957, -4.730899810791016, -6.531000137329102, -6.5503997802734375, -6.551199913024902, -6.588699817657471, -6.615699768066406, -6.636899948120117, -5.325699806213379, -5.414999961853027, -5.0177001953125, -3.1658999919891357, -4.64169979095459, -4.316999912261963, -4.485400199890137, -5.638999938964844, -5.467400074005127, -5.0335001945495605, -5.105000019073486, -5.023200035095215, -4.609000205993652, -5.378799915313721, -4.291600227355957, -4.943299770355225, -5.261099815368652, -5.271599769592285, -4.663899898529053, -5.033999919891357, -3.7772998809814453, -4.698200225830078, -4.597899913787842, -4.01609992980957, -4.991199970245361, -4.562900066375732, -4.756999969482422, -5.1631999015808105, -5.116000175476074, -4.69950008392334, -4.975200176239014, -5.035600185394287, -4.817200183868408, -4.775899887084961, -4.8769001960754395, -4.835700035095215, -4.9618000984191895, -4.927800178527832, -3.227799892425537, -3.739000082015991, -4.141300201416016, -4.427499771118164, -4.724400043487549, -4.785099983215332, -5.060299873352051, -5.122300148010254, -5.524400234222412, -5.313899993896484, -4.814199924468994, -6.019899845123291, -6.40369987487793, -6.428699970245361, -6.49429988861084, -6.310299873352051, -6.754300117492676, -6.8302998542785645, -5.449900150299072, -6.904399871826172, -6.916600227355957, -6.918300151824951, -6.964900016784668, -6.987800121307373, -7.003900051116943, -7.079599857330322, -4.752900123596191, -4.024499893188477, -7.183599948883057, -7.185500144958496, -3.8269999027252197, -5.709199905395508, -3.936199903488159, -5.005300045013428, -2.732800006866455, -4.800099849700928, -2.2339999675750732, -3.4783999919891357, -5.767899990081787, -3.914599895477295, -4.491600036621094, -3.2760000228881836, -3.7671000957489014, -5.327000141143799, -5.155399799346924, -4.489799976348877, -4.946400165557861, -4.30620002746582, -3.698699951171875, -4.531899929046631, -4.728400230407715, -4.258600234985352, -4.722099781036377, -4.642300128936768, -4.789899826049805, -4.9375, -4.933300018310547, -5.102399826049805, -5.495299816131592, -5.553599834442139, -5.5619001388549805, -5.791999816894531, -6.047800064086914, -6.089200019836426, -6.145500183105469, -6.190400123596191, -6.284299850463867, -6.3024001121521, -6.31879997253418, -6.3277997970581055, -6.391200065612793, -6.51039981842041, -6.527200222015381, -6.534299850463867, -6.565999984741211, -5.920199871063232, -6.754700183868408, -6.7631001472473145, -6.777599811553955, -6.808000087738037, -6.820700168609619, -4.966800212860107, -6.822700023651123, -6.879499912261963, -6.8520002365112305, -6.916100025177002, -5.433199882507324, -5.202499866485596, -5.1620001792907715, -5.783100128173828, -5.387400150299072, -5.397799968719482, -5.229599952697754, -5.5152997970581055, -5.1493000984191895, -4.90500020980835, -5.374000072479248, -5.813600063323975, -4.922399997711182, -5.48330020904541, -5.523799896240234, -3.6819000244140625, -4.808800220489502, -3.838900089263916, -5.431399822235107, -4.001100063323975, -4.404200077056885, -4.001399993896484, -3.7565999031066895, -5.5208001136779785, -3.7367000579833984, -4.91349983215332, -4.9552998542785645, -4.364299774169922, -4.656899929046631, -5.109000205993652, -4.197700023651123, -4.692299842834473, -5.156799793243408, -5.080599784851074, -4.974899768829346, -5.1153998374938965, -4.954500198364258, -5.250400066375732, -5.067299842834473, -5.155399799346924, -5.188799858093262, -4.96560001373291, -5.284599781036377, -5.622300148010254, -5.915599822998047, -5.979000091552734, -6.151899814605713, -6.3678998947143555, -6.375100135803223, -6.463900089263916, -6.476799964904785, -6.501299858093262, -6.562300205230713, -6.56850004196167, -6.622300148010254, -6.690800189971924, -6.704599857330322, -6.718400001525879, -6.735199928283691, -6.756899833679199, -6.76669979095459, -6.789400100708008, -6.779699802398682, -6.797999858856201, -6.807600021362305, -6.834199905395508, -6.878799915313721, -6.993599891662598, -4.881199836730957, -7.040999889373779, -7.032700061798096, -6.34660005569458, -5.568999767303467, -4.845900058746338, -5.43310022354126, -3.064300060272217, -6.46999979019165, -3.0206000804901123, -5.361000061035156, -5.970399856567383, -4.153900146484375, -5.075399875640869, -4.508900165557861, -5.83050012588501, -6.228799819946289, -3.213399887084961, -6.178199768066406, -5.326099872589111, -5.621699810028076, -5.837800025939941, -4.503399848937988, -5.391200065612793, -4.552599906921387, -4.2881999015808105, -5.275300025939941, -3.552000045776367, -5.642399787902832, -5.461400032043457, -5.370999813079834, -4.537700176239014, -4.818299770355225, -5.374100208282471, -4.639599800109863, -4.890399932861328, -5.156000137329102, -4.232600212097168, -4.498499870300293, -4.962399959564209, -5.1458001136779785, -4.886199951171875, -5.104400157928467, -4.9608001708984375, -4.996200084686279, -5.239200115203857, -5.207699775695801, -5.231200218200684, -5.255899906158447]}, \"token.table\": {\"Topic\": [1, 2, 3, 4, 5, 6, 7, 2, 5, 4, 5, 6, 7, 1, 4, 4, 7, 1, 2, 2, 1, 7, 3, 1, 2, 3, 4, 5, 6, 7, 3, 6, 2, 7, 1, 3, 6, 1, 2, 3, 4, 6, 7, 1, 3, 4, 3, 4, 7, 1, 2, 6, 2, 1, 7, 1, 2, 3, 6, 7, 1, 6, 1, 3, 4, 6, 7, 1, 3, 3, 2, 2, 7, 1, 1, 6, 6, 1, 2, 3, 4, 5, 6, 7, 1, 2, 3, 4, 6, 7, 1, 3, 7, 5, 7, 5, 6, 7, 1, 3, 4, 7, 6, 1, 2, 3, 4, 5, 7, 4, 4, 5, 1, 3, 4, 6, 2, 5, 1, 7, 6, 6, 2, 1, 2, 3, 4, 5, 6, 7, 1, 2, 3, 5, 6, 7, 1, 2, 3, 4, 5, 6, 1, 2, 3, 4, 5, 6, 7, 3, 6, 7, 7, 7, 1, 4, 7, 6, 1, 3, 4, 2, 1, 4, 6, 5, 1, 1, 3, 4, 5, 6, 2, 6, 7, 3, 6, 4, 1, 2, 3, 4, 6, 2, 4, 5, 2, 4, 7, 2, 1, 4, 5, 4, 7, 7, 5, 3, 3, 5, 7, 1, 2, 4, 7, 1, 2, 3, 4, 6, 7, 3, 4, 6, 6, 1, 2, 6, 5, 1, 2, 3, 4, 6, 7, 2, 2, 3, 1, 3, 6, 7, 1, 2, 4, 6, 1, 3, 4, 5, 6, 7, 2, 6, 3, 4, 1, 2, 3, 4, 5, 6, 7, 2, 3, 4, 5, 1, 3, 7, 3, 1, 7, 2, 4, 5, 6, 1, 7, 3, 1, 3, 4, 6, 7, 1, 2, 3, 5, 6, 7, 5, 4, 6, 1, 3, 7, 1, 2, 3, 5, 6, 7, 1, 7, 7, 6, 5, 1, 2, 3, 4, 6, 7, 6, 1, 2, 5, 1, 2, 4, 5, 3, 4, 5, 7, 3, 5, 7, 3, 7, 3, 5, 4, 5, 7, 2, 3, 6, 1, 2, 3, 5, 6, 7, 2, 4, 4, 5, 5, 1, 7, 1, 2, 3, 4, 5, 6, 7, 6, 1, 2, 6, 7, 1, 2, 3, 4, 5, 6, 7, 3, 7, 5, 1, 4, 6, 1, 5, 2, 3, 4, 6, 2, 3, 2, 4, 2, 2, 1, 2, 5, 7, 1, 1, 2, 3, 5, 6, 7, 6, 1, 3, 3, 3, 6, 1, 3, 4, 6, 7, 6, 1, 3, 1, 3, 4, 5, 6, 2, 3, 4, 5, 6, 1, 1, 3, 4, 5, 7, 1, 2, 3, 4, 5, 7, 1, 3, 4, 5, 7, 2, 1, 1, 4, 1, 4, 7, 3, 2, 3, 4, 5, 7, 3, 1, 7, 1, 3, 4, 7, 1, 2, 7, 1, 3, 5, 6, 1, 2, 3, 4, 2, 4, 1, 2, 7, 1, 2, 3, 4, 6, 7, 1, 4, 7, 1, 2, 3, 6, 7, 2, 1, 2, 3, 4, 5, 7, 1, 2, 1, 6, 6, 4, 1, 3, 7, 3, 6, 7, 7, 1, 1, 4, 1, 1, 7, 5, 1, 3, 6, 4, 2, 3, 6, 7, 3, 4, 7, 1, 2, 3, 5, 7, 2, 3, 4, 5, 6, 3, 1, 2, 3, 4, 6, 7, 5, 3, 6, 5, 1, 7, 1, 5, 1, 3, 4, 5, 7, 1, 7, 1, 2, 3, 4, 5, 7, 3, 1, 2, 5, 6, 1, 2, 3, 6, 1, 6, 4, 1, 4, 1, 4, 5, 3, 1, 2, 3, 4, 5, 7, 3, 2, 3, 4, 6, 1, 3, 7, 2, 3, 4, 5, 6, 7, 3, 1, 2, 3, 4, 7, 4, 4, 7, 5, 1, 3, 4, 5, 6, 7, 2, 3, 4, 6, 7, 7, 3, 4, 5, 6, 7, 5, 6, 2, 3, 4, 5, 6, 7, 4, 4, 1, 2, 3, 4, 5, 6, 7, 1, 7, 2, 3, 4, 6, 7, 1, 2, 1, 4, 2, 1, 3, 7, 4, 1, 6, 7, 3, 4, 2, 5, 1, 3, 5, 6, 4, 1, 3, 4, 7, 6, 7, 6, 4, 2, 1, 2, 3, 5, 2, 5, 6, 7, 1, 2, 5, 6, 7, 3, 5, 1, 2, 3, 6, 7, 7, 1, 4, 7, 1, 7, 6, 1, 2, 3, 4, 5, 6, 7, 1, 2, 4, 5, 7, 1, 7, 6, 2, 5, 4, 2, 4, 6, 7, 7, 1, 5, 7, 1, 3, 6, 7, 2, 7, 7, 6, 7, 1, 2, 6, 7, 2, 6, 3, 1, 3, 4, 7, 3, 5, 2, 1, 2, 6, 7, 2, 3, 6, 1, 2, 6, 7, 3, 1, 4, 6, 4, 7, 5, 1, 2, 4, 5, 7, 3, 1, 3, 4, 7, 1, 3, 4, 6, 7, 4, 6, 3, 6, 3, 6, 1, 1, 3, 4, 5, 6, 7, 1, 2, 3, 5, 4, 3, 1, 2, 4, 7, 4, 1, 7, 1, 1, 2, 3, 4, 7, 3, 4, 4, 7, 7, 1, 2, 1, 2, 4, 5, 6, 1, 1, 3, 7, 1, 7, 1, 2, 3, 4, 5, 7, 1, 2, 3, 5, 6, 1, 3, 7, 4, 1, 1, 2, 3, 4, 6, 7, 1, 6, 2, 2, 4, 4, 6, 1, 3, 4, 6, 7, 2, 3, 4, 1, 2, 1, 2, 3, 4, 5, 6, 1, 1, 5, 1, 3, 4, 6, 6, 1, 1, 4, 7, 1, 2, 3, 4, 5, 6, 4, 5, 7, 5, 1, 4, 5, 3, 6, 5], \"Freq\": [0.22483672201633453, 0.4854429066181183, 0.005109925288707018, 0.02554962784051895, 0.12263821065425873, 0.030659552663564682, 0.10730843245983124, 0.030260741710662842, 0.9532133936882019, 0.06860415637493134, 0.06860415637493134, 0.27441662549972534, 0.6002863645553589, 0.9626429677009583, 0.9386494159698486, 0.7299326062202454, 0.2433108687400818, 0.9728276133537292, 0.9668973684310913, 0.9983965158462524, 0.8290774822235107, 0.16177120804786682, 0.9416462182998657, 0.06647554785013199, 0.2526070773601532, 0.2806745171546936, 0.0842023566365242, 0.002954468596726656, 0.2629477083683014, 0.04874873161315918, 0.08567523956298828, 0.9081575274467468, 0.994901180267334, 0.9028483033180237, 0.1137191578745842, 0.0682314932346344, 0.7960341572761536, 0.024174733087420464, 0.016116488724946976, 0.4089559018611908, 0.16720856726169586, 0.33038800954818726, 0.05439314991235733, 0.9683200716972351, 0.913577675819397, 0.9232698082923889, 0.12741586565971375, 0.6115961670875549, 0.2548317313194275, 0.021575890481472015, 0.9709150791168213, 0.9466449618339539, 0.9735077023506165, 0.9520667195320129, 0.9367125630378723, 0.548412024974823, 0.04570100083947182, 0.06398140639066696, 0.2742060124874115, 0.06398140639066696, 0.10502801835536957, 0.8664811253547668, 0.5779822468757629, 0.10508767515420914, 0.26271918416023254, 0.028660275042057037, 0.028660275042057037, 0.14574289321899414, 0.8420700430870056, 0.9488614201545715, 0.9327406883239746, 0.9485523104667664, 0.8940941691398621, 0.9480361342430115, 0.23163653910160065, 0.7610914707183838, 0.876314103603363, 0.19175370037555695, 0.12680485844612122, 0.11134085059165955, 0.21031050384044647, 0.09896964579820633, 0.1484544724225998, 0.11134085059165955, 0.33033835887908936, 0.2538389563560486, 0.15299881994724274, 0.01738622970879078, 0.07302216440439224, 0.1738622933626175, 0.43959566950798035, 0.11988972872495651, 0.43959566950798035, 0.9183411002159119, 0.08103009313344955, 0.9928874373435974, 0.9343273043632507, 0.9405558109283447, 0.2754361927509308, 0.006455536000430584, 0.0021518452558666468, 0.7165645360946655, 0.9388485550880432, 0.09122030436992645, 0.0026829501148313284, 0.11939128488302231, 0.08987882733345032, 0.6814693212509155, 0.016097700223326683, 0.9490369558334351, 0.970971941947937, 0.9060854911804199, 0.9532443881034851, 0.11006437987089157, 0.7704506516456604, 0.08254829049110413, 0.9711031913757324, 0.9133966565132141, 0.34915608167648315, 0.648432731628418, 0.9695113301277161, 0.9182419180870056, 0.9812792539596558, 0.1466376930475235, 0.19090567529201508, 0.16323819756507874, 0.22133992612361908, 0.1466376930475235, 0.10236971080303192, 0.03043423965573311, 0.05908748134970665, 0.6893539428710938, 0.0393916554749012, 0.0787833109498024, 0.09847913682460785, 0.0393916554749012, 0.09878727048635483, 0.32929089665412903, 0.17123126983642578, 0.03292908892035484, 0.04610072448849678, 0.3095334470272064, 0.18299296498298645, 0.15859389305114746, 0.5306795835494995, 0.05489788576960564, 0.012199530377984047, 0.05489788576960564, 0.0060997651889920235, 0.03265276923775673, 0.08163192868232727, 0.8816248178482056, 0.9893009662628174, 0.928687334060669, 0.35986149311065674, 0.6279935836791992, 0.007056107744574547, 0.9270231127738953, 0.6975418925285339, 0.005625337827950716, 0.2925175726413727, 0.9610743522644043, 0.09648735076189041, 0.8362236618995667, 0.06432490050792694, 0.9974395632743835, 0.9423201680183411, 0.19686293601989746, 0.5249678492546082, 0.10311868041753769, 0.1124931052327156, 0.0562465526163578, 0.9775325059890747, 0.12555356323719025, 0.8474865555763245, 0.31831178069114685, 0.6790651082992554, 0.9687696099281311, 0.07608253508806229, 0.34871160984039307, 0.006340211257338524, 0.20922696590423584, 0.35505184531211853, 0.4699903428554535, 0.4760158360004425, 0.04820413514971733, 0.33564960956573486, 0.17581646144390106, 0.4794994592666626, 0.9766152501106262, 0.8641568422317505, 0.06733689457178116, 0.06733689457178116, 0.16059085726737976, 0.8029543161392212, 0.9207571148872375, 0.9594912528991699, 0.8928183913230896, 0.13625715672969818, 0.857915461063385, 0.8481804132461548, 0.4241998791694641, 0.31023573875427246, 0.1772775650024414, 0.0886387825012207, 0.13990849256515503, 0.3394501209259033, 0.016055073589086533, 0.11467909067869186, 0.3188078701496124, 0.07339461892843246, 0.03645367547869682, 0.10936102271080017, 0.8384345173835754, 0.9232526421546936, 0.29925742745399475, 0.12383066117763519, 0.5778764486312866, 0.8708687424659729, 0.4919012188911438, 0.044215839356184006, 0.12159355729818344, 0.21002523601055145, 0.03868886083364487, 0.08843167871236801, 0.957043468952179, 0.9949129223823547, 0.9278311729431152, 0.1254124790430069, 0.46581777930259705, 0.15527260303497314, 0.2508249580860138, 0.011033383198082447, 0.3641016483306885, 0.5737358927726746, 0.04413353279232979, 0.6696828007698059, 0.07305630296468735, 0.1339365690946579, 0.036528151482343674, 0.048704203218221664, 0.024352101609110832, 0.9993429183959961, 0.9543054103851318, 0.7737997174263, 0.21494436264038086, 0.0637383833527565, 0.2748717963695526, 0.08764027804136276, 0.05577108636498451, 0.35056111216545105, 0.015934595838189125, 0.15137866139411926, 0.2572236955165863, 0.10288948565721512, 0.634485125541687, 0.8889932632446289, 0.10920044034719467, 0.3276013135910034, 0.546002209186554, 0.8997185826301575, 0.9811986684799194, 0.948467493057251, 0.784138023853302, 0.04578908160328865, 0.15453815460205078, 0.011447270400822163, 0.845798909664154, 0.14801481366157532, 0.9275760650634766, 0.047141026705503464, 0.015713676810264587, 0.29855984449386597, 0.1257094144821167, 0.5028376579284668, 0.2211996614933014, 0.393735408782959, 0.2610155940055847, 0.03981593996286392, 0.08405587077140808, 0.004423993173986673, 0.8519195914268494, 0.1530604362487793, 0.8418324589729309, 0.29170525074005127, 0.6342379450798035, 0.07071642577648163, 0.40469682216644287, 0.1367989331483841, 0.19949842989444733, 0.18239857256412506, 0.011399910785257816, 0.06839946657419205, 0.16108514368534088, 0.8200698494911194, 0.9515314102172852, 0.9554910063743591, 0.9675087332725525, 0.03457609564065933, 0.12101633101701736, 0.2074565589427948, 0.4494892358779907, 0.11237230896949768, 0.07779621332883835, 0.9040802121162415, 0.013172345235943794, 0.09220641851425171, 0.88254714012146, 0.03210552781820297, 0.7320060133934021, 0.19263316690921783, 0.03852663189172745, 0.41189876198768616, 0.07534733414649963, 0.2637156546115875, 0.24613462388515472, 0.09287470579147339, 0.804914116859436, 0.09287470579147339, 0.7881196141242981, 0.18846338987350464, 0.9082774519920349, 0.9988790154457092, 0.9783056974411011, 0.8835155367851257, 0.9181421995162964, 0.0903811827301979, 0.39439061284065247, 0.5094212293624878, 0.09148067981004715, 0.01463690958917141, 0.03293304517865181, 0.5708394646644592, 0.07684377580881119, 0.21223518252372742, 0.03363312780857086, 0.9417275190353394, 0.978732705116272, 0.9884582757949829, 0.9920061230659485, 0.17507804930210114, 0.7878512740135193, 0.0006776878726668656, 0.22295930981636047, 0.3856043815612793, 0.12266150116920471, 0.07454566657543182, 0.12333919107913971, 0.06980185210704803, 0.8963202834129333, 0.773076057434082, 0.08920108526945114, 0.009911231696605682, 0.11893477290868759, 0.17040859162807465, 0.01262285839766264, 0.10729429870843887, 0.01262285839766264, 0.5490943193435669, 0.06942572444677353, 0.07573714852333069, 0.9914872646331787, 0.9470931887626648, 0.9495932459831238, 0.93427574634552, 0.9726919531822205, 0.9649350643157959, 0.8501842617988586, 0.1457458734512329, 0.8092615008354187, 0.007933936081826687, 0.011900904588401318, 0.17057962715625763, 0.937758207321167, 0.05683382973074913, 0.9155731201171875, 0.07825411111116409, 0.9840837717056274, 0.9871047139167786, 0.032838135957717896, 0.18060974776744843, 0.6239246129989624, 0.14777161180973053, 0.9607589244842529, 0.2759851813316345, 0.2397903949022293, 0.04976781830191612, 0.11763302236795425, 0.14025476574897766, 0.17644953727722168, 0.9556301832199097, 0.9433007836341858, 0.9619090557098389, 0.964718222618103, 0.20789703726768494, 0.7748889327049255, 0.15409322082996368, 0.4853936433792114, 0.007704660762101412, 0.1926165223121643, 0.15409322082996368, 0.9322748184204102, 0.17530624568462372, 0.8225908279418945, 0.09694628417491913, 0.22620800137519836, 0.1077180951833725, 0.12926171720027924, 0.43087238073349, 0.22534194588661194, 0.10903642326593399, 0.21807284653186798, 0.10903642326593399, 0.33437836170196533, 0.9680959582328796, 0.24872224032878876, 0.048139788210392, 0.4573279917240143, 0.11232617497444153, 0.12837277352809906, 0.976702094078064, 0.002114774426445365, 0.16072285175323486, 0.70633465051651, 0.11842736601829529, 0.012688646093010902, 0.4770246148109436, 0.08290855586528778, 0.004806293174624443, 0.09011799842119217, 0.344851553440094, 0.9882877469062805, 0.9777265191078186, 0.854668140411377, 0.13406559824943542, 0.6713461875915527, 0.10515061020851135, 0.21838973462581635, 0.9453436136245728, 0.1533273458480835, 0.16559353470802307, 0.6501079201698303, 0.024532373994588852, 0.006133093498647213, 0.9387292265892029, 0.24314703047275543, 0.7294411063194275, 0.40343403816223145, 0.15985122323036194, 0.36537420749664307, 0.06850766390562057, 0.4877316653728485, 0.44365954399108887, 0.0646391361951828, 0.9876968860626221, 0.03426690772175789, 0.731027364730835, 0.22844605147838593, 0.10568863898515701, 0.1321108043193817, 0.22458836436271667, 0.5416542887687683, 0.9120447039604187, 0.08897996693849564, 0.10327424108982086, 0.8818030953407288, 0.01588834449648857, 0.09706389904022217, 0.05084299296140671, 0.4021218717098236, 0.34665676951408386, 0.10168598592281342, 0.004622090142220259, 0.5926569104194641, 0.35382503271102905, 0.05307375639677048, 0.21381819248199463, 0.23520001769065857, 0.14112001657485962, 0.226647287607193, 0.1838836520910263, 0.9659743309020996, 0.035682741552591324, 0.21798910200595856, 0.048658281564712524, 0.02205842174589634, 0.5423776507377625, 0.13235053420066833, 0.9443637728691101, 0.9853509664535522, 0.1236642524600029, 0.8656497597694397, 0.9630067944526672, 0.9058263301849365, 0.054044220596551895, 0.9187517166137695, 0.9319776296615601, 0.8772297501564026, 0.9547706842422485, 0.8412261605262756, 0.8767737150192261, 0.9853352904319763, 0.9354629516601562, 0.03741851821541786, 0.9567088484764099, 0.5498120784759521, 0.4302877187728882, 0.9838391542434692, 0.3039831519126892, 0.6184484958648682, 0.07337523996829987, 0.9632590413093567, 0.9745391011238098, 0.794448733329773, 0.09629680961370468, 0.09629680961370468, 0.6345518231391907, 0.09268734604120255, 0.27093225717544556, 0.4178973138332367, 0.23837804794311523, 0.07063053548336029, 0.20306278765201569, 0.06768759340047836, 0.8619572520256042, 0.06885457038879395, 0.00765050807967782, 0.0025501693598926067, 0.05865389481186867, 0.918190062046051, 0.20228596031665802, 0.08990487456321716, 0.47761964797973633, 0.011238109320402145, 0.011238109320402145, 0.20790502429008484, 0.9616734981536865, 0.9643594622612, 0.865240216255188, 0.9697306752204895, 0.9720097184181213, 0.9770895838737488, 0.9896169900894165, 0.9454084038734436, 0.10627472400665283, 0.11386577785015106, 0.10880507528781891, 0.6098145246505737, 0.05819806456565857, 0.6924440860748291, 0.2949298918247223, 0.2793315351009369, 0.07731498032808304, 0.09726723283529282, 0.07856199890375137, 0.36786967515945435, 0.09851425141096115, 0.9138388633728027, 0.018884481862187386, 0.05665344372391701, 0.24549825489521027, 0.660956859588623, 0.11584413051605225, 0.15445885062217712, 0.07722942531108856, 0.6371427178382874, 0.04506871849298477, 0.901374340057373, 0.9361538887023926, 0.9616291522979736, 0.025306029245257378, 0.9814041256904602, 0.7366470694541931, 0.25201085209846497, 0.9548794627189636, 0.054819099605083466, 0.04698780179023743, 0.4111432433128357, 0.054819099605083466, 0.13704775273799896, 0.2936737537384033, 0.961734414100647, 0.9745450615882874, 0.1144774779677391, 0.09158198535442352, 0.8013423681259155, 0.08097811788320541, 0.05398540943861008, 0.8367738723754883, 0.28875279426574707, 0.2191244512796402, 0.13106510043144226, 0.17202293872833252, 0.030718382447957993, 0.15563979744911194, 0.9606872200965881, 0.09326610714197159, 0.7461288571357727, 0.07577870786190033, 0.06412044912576675, 0.01748739555478096, 0.9723044633865356, 0.9361044764518738, 0.053491685539484024, 0.9919542670249939, 0.08704017847776413, 0.7191177010536194, 0.0020723852794617414, 0.024868622422218323, 0.14506696164608002, 0.022796237841248512, 0.0862601101398468, 0.27603232860565186, 0.02587803266942501, 0.39679649472236633, 0.20702426135540009, 0.859633207321167, 0.04521078243851662, 0.40689703822135925, 0.06329509615898132, 0.39785489439964294, 0.08137940615415573, 0.9345173239707947, 0.9729677438735962, 0.3146703839302063, 0.11152874678373337, 0.1433940976858139, 0.13741934299468994, 0.19318372011184692, 0.0955960676074028, 0.9853509068489075, 0.9907285571098328, 0.08854183554649353, 0.13858722150325775, 0.1732340157032013, 0.11548934876918793, 0.34839287400245667, 0.040421269834041595, 0.09624112397432327, 0.3173457980155945, 0.6664261817932129, 0.3297158479690552, 0.25759050250053406, 0.10303620249032974, 0.22667963802814484, 0.0824289619922638, 0.03324001282453537, 0.9528803825378418, 0.9152126312255859, 0.08135223388671875, 0.9824063181877136, 0.37128302454948425, 0.07201610505580902, 0.5569245219230652, 0.9624741673469543, 0.5881880521774292, 0.10083223879337311, 0.3024967312812805, 0.9062446355819702, 0.9344962239265442, 0.9783018231391907, 0.945206880569458, 0.1499612182378769, 0.3040880262851715, 0.15829239785671234, 0.3873997926712036, 0.9310773015022278, 0.3983302712440491, 0.16482631862163544, 0.15109078586101532, 0.28157827258110046, 0.07009457796812057, 0.8411349058151245, 0.9882583022117615, 0.9374818205833435, 0.9731748700141907, 0.030550969764590263, 0.9165290594100952, 0.04073462635278702, 0.010183656588196754, 0.17753088474273682, 0.15533952414989471, 0.6657408475875854, 0.9179591536521912, 0.012326458469033241, 0.06163229048252106, 0.11093812435865402, 0.6902816295623779, 0.12326458096504211, 0.7373630404472351, 0.23785904049873352, 0.43450191617012024, 0.09124540537595749, 0.05214023217558861, 0.30197885632514954, 0.11731552332639694, 0.9739267826080322, 0.3030703067779541, 0.01515351515263319, 0.6819081902503967, 0.07892896980047226, 0.8682186603546143, 0.9843747615814209, 0.09765531122684479, 0.44092851877212524, 0.062144290655851364, 0.3195992112159729, 0.05622578412294388, 0.002959251869469881, 0.020714763551950455, 0.3408934473991394, 0.15281429886817932, 0.1057945191860199, 0.02350989170372486, 0.38791322708129883, 0.9432969093322754, 0.9166814088821411, 0.9243674278259277, 0.195296511054039, 0.781186044216156, 0.8924352526664734, 0.9080697298049927, 0.01300959475338459, 0.0052038379944860935, 0.07545565068721771, 0.9534150958061218, 0.1001967191696167, 0.8683715462684631, 0.8562453985214233, 0.22184531390666962, 0.4073886573314667, 0.052436165511608124, 0.3186505436897278, 0.9598642587661743, 0.9533224701881409, 0.9223082065582275, 0.9747884273529053, 0.9400564432144165, 0.2835575342178345, 0.107292041182518, 0.0076637170277535915, 0.5977699160575867, 0.9276946783065796, 0.06871812045574188, 0.9555221199989319, 0.7320215106010437, 0.12621060013771057, 0.012621060945093632, 0.12621060013771057, 0.20267681777477264, 0.789919912815094, 0.99049973487854, 0.024691930040717125, 0.8950824737548828, 0.07716228067874908, 0.0030864912550896406, 0.026278125122189522, 0.9460124969482422, 0.9305453896522522, 0.06582925468683243, 0.8908892273902893, 0.017554467543959618, 0.026331700384616852, 0.8773494362831116, 0.19058632850646973, 0.16941006481647491, 0.6564640402793884, 0.963528573513031, 0.8845754861831665, 0.9232897162437439, 0.39412403106689453, 0.0716589167714119, 0.32246512174606323, 0.0477726086974144, 0.16123256087303162, 0.9233759045600891, 0.014422244392335415, 0.8509124517440796, 0.11537795513868332, 0.014422244392335415, 0.08228548616170883, 0.48685577511787415, 0.00685712369158864, 0.37028467655181885, 0.061714112758636475, 0.9062931537628174, 0.8752308487892151, 0.8896480798721313, 0.9613687992095947, 0.9838113784790039, 0.9520590901374817, 0.9745192527770996, 0.006226433906704187, 0.6793730854988098, 0.09893111884593964, 0.1335224211215973, 0.07955998927354813, 0.002075477968901396, 0.053466010838747025, 0.8376342058181763, 0.035644009709358215, 0.07128801941871643, 0.9876025915145874, 0.9633010029792786, 0.02975465916097164, 0.8182531595230103, 0.14877329766750336, 0.8719897270202637, 0.9704697728157043, 0.21909227967262268, 0.7668229937553406, 0.948665201663971, 0.16260434687137604, 0.49819204211235046, 0.05535466969013214, 0.24909602105617523, 0.03459667041897774, 0.9764965176582336, 0.9129601120948792, 0.8775649666786194, 0.10029313713312149, 0.9241716265678406, 0.5187098383903503, 0.4749632179737091, 0.18740376830101013, 0.13851583003997803, 0.2036997526884079, 0.4562874436378479, 0.016295980662107468, 0.9550731778144836, 0.7281681895256042, 0.19162321090698242, 0.07664928585290909, 0.1176966056227684, 0.8238762617111206, 0.16871000826358795, 0.26868629455566406, 0.2791005074977875, 0.004165679216384888, 0.13538457453250885, 0.14371593296527863, 0.04665140435099602, 0.09330280870199203, 0.2682455778121948, 0.524828314781189, 0.06997711211442947, 0.12980903685092926, 0.7788541913032532, 0.08653935045003891, 0.9190255999565125, 0.9859389066696167, 0.02870061993598938, 0.4699726402759552, 0.07533912360668182, 0.04305092990398407, 0.19372917711734772, 0.19372917711734772, 0.2518126368522644, 0.7386504411697388, 0.9624179005622864, 0.9858332872390747, 0.9909604787826538, 0.9224768877029419, 0.07095976173877716, 0.03691214695572853, 0.2847508490085602, 0.0052731637842953205, 0.0790974572300911, 0.5905943512916565, 0.9917716979980469, 0.9218738675117493, 0.06357751041650772, 0.8562382459640503, 0.12017378211021423, 0.04404294490814209, 0.19085276126861572, 0.33766257762908936, 0.161490797996521, 0.05285153165459633, 0.21140612661838531, 0.9836846590042114, 0.11383411288261414, 0.8853764533996582, 0.026381419971585274, 0.013190709985792637, 0.5408191084861755, 0.4221027195453644, 0.9462750554084778, 0.9615060091018677, 0.3658812940120697, 0.6137363314628601, 0.011802622117102146, 0.01697683148086071, 0.21730343997478485, 0.3412342965602875, 0.015279147773981094, 0.0848841518163681, 0.3259551525115967, 0.9577192664146423, 0.8880041241645813, 0.9101084470748901, 0.8633179664611816, 0.954352855682373, 0.9647710919380188, 0.9336295127868652, 0.20540912449359894, 0.7959603667259216, 0.984035849571228], \"Term\": [\"abl\", \"abl\", \"abl\", \"abl\", \"abl\", \"abl\", \"abl\", \"absolut\", \"absolut\", \"addit\", \"addit\", \"addit\", \"addit\", \"adjust\", \"advantag\", \"afford\", \"afford\", \"ago\", \"alarm\", \"alexa\", \"almost\", \"almost\", \"altern\", \"amazon\", \"amazon\", \"amazon\", \"amazon\", \"amazon\", \"amazon\", \"amazon\", \"android\", \"android\", \"answer\", \"anybodi\", \"anyon\", \"anyon\", \"anyon\", \"app\", \"app\", \"app\", \"app\", \"app\", \"app\", \"appear\", \"applic\", \"appropri\", \"around\", \"around\", \"around\", \"ask\", \"ask\", \"associ\", \"autom\", \"automat\", \"avid\", \"back\", \"back\", \"back\", \"back\", \"back\", \"bad\", \"bad\", \"batteri\", \"batteri\", \"batteri\", \"batteri\", \"batteri\", \"beat\", \"beat\", \"beauti\", \"becom\", \"bedroom\", \"begin\", \"beginn\", \"believ\", \"believ\", \"besid\", \"best\", \"best\", \"best\", \"best\", \"best\", \"best\", \"best\", \"better\", \"better\", \"better\", \"better\", \"better\", \"better\", \"big\", \"big\", \"big\", \"bigger\", \"bigger\", \"birthday\", \"block\", \"bn\", \"book\", \"book\", \"book\", \"book\", \"bottom\", \"bought\", \"bought\", \"bought\", \"bought\", \"bought\", \"bought\", \"box\", \"boy\", \"boyfriend\", \"brand\", \"break\", \"break\", \"break\", \"brief\", \"brother\", \"brows\", \"brows\", \"buck\", \"build\", \"bulb\", \"buy\", \"buy\", \"buy\", \"buy\", \"buy\", \"buy\", \"buy\", \"call\", \"call\", \"call\", \"call\", \"call\", \"call\", \"camera\", \"camera\", \"camera\", \"camera\", \"camera\", \"camera\", \"cant\", \"cant\", \"cant\", \"cant\", \"cant\", \"cant\", \"cant\", \"card\", \"card\", \"card\", \"carri\", \"cartoon\", \"case\", \"case\", \"case\", \"certainli\", \"charg\", \"charg\", \"charg\", \"chat\", \"child\", \"child\", \"child\", \"christma\", \"clariti\", \"color\", \"color\", \"color\", \"color\", \"color\", \"command\", \"compact\", \"compact\", \"complaint\", \"complaint\", \"complic\", \"connect\", \"connect\", \"connect\", \"connect\", \"connect\", \"control\", \"control\", \"control\", \"conveni\", \"conveni\", \"conveni\", \"cook\", \"cover\", \"cover\", \"cover\", \"crack\", \"crack\", \"crisp\", \"dad\", \"damag\", \"daughter\", \"daughter\", \"daughterinlaw\", \"day\", \"day\", \"day\", \"day\", \"devic\", \"devic\", \"devic\", \"devic\", \"devic\", \"devic\", \"difficult\", \"difficult\", \"difficult\", \"disabl\", \"doesnt\", \"doesnt\", \"doesnt\", \"dog\", \"dont\", \"dont\", \"dont\", \"dont\", \"dont\", \"dont\", \"doorbel\", \"dot\", \"downfal\", \"download\", \"download\", \"download\", \"download\", \"drop\", \"drop\", \"drop\", \"drop\", \"easier\", \"easier\", \"easier\", \"easier\", \"easier\", \"easier\", \"echo\", \"effici\", \"email\", \"email\", \"enjoy\", \"enjoy\", \"enjoy\", \"enjoy\", \"enjoy\", \"enjoy\", \"enjoy\", \"entertain\", \"entertain\", \"entertain\", \"even\", \"exactli\", \"exactli\", \"exactli\", \"exceed\", \"facebook\", \"factor\", \"famili\", \"famili\", \"famili\", \"famili\", \"faster\", \"faster\", \"father\", \"favorit\", \"favorit\", \"favorit\", \"favorit\", \"favorit\", \"featur\", \"featur\", \"featur\", \"featur\", \"featur\", \"featur\", \"fianc\", \"fine\", \"fine\", \"fire\", \"fire\", \"fire\", \"first\", \"first\", \"first\", \"first\", \"first\", \"first\", \"fit\", \"fit\", \"flip\", \"font\", \"four\", \"free\", \"free\", \"free\", \"free\", \"free\", \"free\", \"freez\", \"friendli\", \"friendli\", \"friendli\", \"fun\", \"fun\", \"fun\", \"fun\", \"game\", \"game\", \"game\", \"game\", \"gave\", \"gave\", \"gave\", \"gb\", \"gb\", \"geek\", \"gift\", \"girl\", \"girlfriend\", \"goe\", \"googl\", \"googl\", \"googl\", \"got\", \"got\", \"got\", \"got\", \"got\", \"got\", \"grand\", \"grand\", \"grandchildren\", \"granddaught\", \"grandson\", \"graphic\", \"graphic\", \"great\", \"great\", \"great\", \"great\", \"great\", \"great\", \"great\", \"guy\", \"hand\", \"hand\", \"hand\", \"hand\", \"happi\", \"happi\", \"happi\", \"happi\", \"happi\", \"happi\", \"happi\", \"hd\", \"hdx\", \"he\", \"heavi\", \"held\", \"high\", \"hold\", \"hold\", \"home\", \"home\", \"home\", \"home\", \"hook\", \"hook\", \"hous\", \"hous\", \"hub\", \"hue\", \"husband\", \"husband\", \"husband\", \"husband\", \"ill\", \"im\", \"im\", \"im\", \"im\", \"im\", \"im\", \"imag\", \"imposs\", \"inch\", \"inexpens\", \"instal\", \"instal\", \"internet\", \"internet\", \"internet\", \"internet\", \"internet\", \"intuit\", \"ipad\", \"ipad\", \"issu\", \"issu\", \"issu\", \"issu\", \"issu\", \"item\", \"item\", \"item\", \"item\", \"item\", \"junk\", \"keep\", \"keep\", \"keep\", \"keep\", \"keep\", \"keyboard\", \"kid\", \"kid\", \"kid\", \"kid\", \"kid\", \"kindl\", \"kindl\", \"kindl\", \"kindl\", \"kindl\", \"kitchen\", \"laptop\", \"larger\", \"larger\", \"last\", \"last\", \"last\", \"law\", \"learn\", \"learn\", \"learn\", \"learn\", \"learn\", \"left\", \"librari\", \"librari\", \"life\", \"life\", \"life\", \"life\", \"light\", \"light\", \"light\", \"lighter\", \"like\", \"like\", \"like\", \"limit\", \"limit\", \"limit\", \"limit\", \"list\", \"list\", \"listen\", \"listen\", \"listen\", \"littl\", \"littl\", \"littl\", \"littl\", \"littl\", \"littl\", \"long\", \"long\", \"long\", \"look\", \"look\", \"look\", \"look\", \"look\", \"lose\", \"love\", \"love\", \"love\", \"love\", \"love\", \"love\", \"lower\", \"lyric\", \"magazin\", \"magazin\", \"main\", \"manual\", \"media\", \"media\", \"meet\", \"membership\", \"menu\", \"met\", \"micro\", \"mini\", \"miss\", \"miss\", \"mode\", \"model\", \"model\", \"mom\", \"money\", \"money\", \"money\", \"monitor\", \"morn\", \"mother\", \"mother\", \"mother\", \"movi\", \"movi\", \"movi\", \"much\", \"much\", \"much\", \"much\", \"much\", \"music\", \"music\", \"music\", \"music\", \"music\", \"necessari\", \"need\", \"need\", \"need\", \"need\", \"need\", \"need\", \"nephew\", \"netflix\", \"newstand\", \"niec\", \"night\", \"nook\", \"oasi\", \"obviou\", \"old\", \"old\", \"old\", \"old\", \"old\", \"older\", \"older\", \"one\", \"one\", \"one\", \"one\", \"one\", \"one\", \"onto\", \"oper\", \"oper\", \"oper\", \"oper\", \"order\", \"order\", \"order\", \"order\", \"otherwis\", \"otherwis\", \"outstand\", \"page\", \"page\", \"paperwhit\", \"parent\", \"parent\", \"past\", \"perfect\", \"perfect\", \"perfect\", \"perfect\", \"perfect\", \"perfect\", \"period\", \"philip\", \"photo\", \"photo\", \"photo\", \"place\", \"place\", \"place\", \"play\", \"play\", \"play\", \"play\", \"play\", \"play\", \"plenti\", \"plu\", \"plu\", \"plu\", \"plu\", \"plu\", \"port\", \"portabl\", \"portabl\", \"present\", \"price\", \"price\", \"price\", \"price\", \"price\", \"price\", \"prime\", \"prime\", \"prime\", \"prime\", \"prime\", \"prior\", \"problem\", \"problem\", \"problem\", \"problem\", \"problem\", \"process\", \"processor\", \"product\", \"product\", \"product\", \"product\", \"product\", \"product\", \"profil\", \"protect\", \"purchas\", \"purchas\", \"purchas\", \"purchas\", \"purchas\", \"purchas\", \"purchas\", \"purs\", \"purs\", \"qualiti\", \"qualiti\", \"qualiti\", \"qualiti\", \"qualiti\", \"question\", \"question\", \"quit\", \"quit\", \"radio\", \"read\", \"read\", \"read\", \"readabl\", \"reader\", \"reader\", \"reader\", \"rear\", \"recharg\", \"recip\", \"recipi\", \"recommend\", \"recommend\", \"recommend\", \"recommend\", \"reliabl\", \"replac\", \"replac\", \"replac\", \"replac\", \"request\", \"request\", \"requir\", \"ride\", \"ring\", \"room\", \"room\", \"room\", \"room\", \"run\", \"run\", \"run\", \"safeguard\", \"sale\", \"sale\", \"sale\", \"sale\", \"sale\", \"school\", \"school\", \"screen\", \"screen\", \"screen\", \"screen\", \"screen\", \"sd\", \"second\", \"second\", \"second\", \"serv\", \"serv\", \"servic\", \"set\", \"set\", \"set\", \"set\", \"set\", \"set\", \"set\", \"sever\", \"sever\", \"sever\", \"sever\", \"sever\", \"shape\", \"share\", \"sharp\", \"she\", \"she\", \"short\", \"show\", \"show\", \"show\", \"show\", \"shut\", \"sister\", \"sister\", \"six\", \"size\", \"size\", \"size\", \"size\", \"skill\", \"sleek\", \"slot\", \"slow\", \"slower\", \"small\", \"small\", \"small\", \"small\", \"smart\", \"smart\", \"social\", \"someth\", \"someth\", \"someth\", \"someth\", \"son\", \"son\", \"song\", \"sound\", \"sound\", \"sound\", \"sound\", \"space\", \"space\", \"speak\", \"speaker\", \"speaker\", \"speaker\", \"speaker\", \"squad\", \"star\", \"star\", \"star\", \"starter\", \"state\", \"steal\", \"still\", \"still\", \"still\", \"still\", \"still\", \"stock\", \"storag\", \"storag\", \"storag\", \"storag\", \"store\", \"store\", \"store\", \"store\", \"store\", \"strong\", \"student\", \"superb\", \"suppos\", \"surf\", \"surfac\", \"swipe\", \"tablet\", \"tablet\", \"tablet\", \"tablet\", \"tablet\", \"tablet\", \"talk\", \"talk\", \"talk\", \"talk\", \"tap\", \"teenag\", \"tell\", \"tell\", \"tell\", \"terribl\", \"test\", \"text\", \"text\", \"there\", \"thing\", \"thing\", \"thing\", \"thing\", \"thing\", \"toddler\", \"transfer\", \"trip\", \"trip\", \"troubl\", \"turn\", \"turn\", \"two\", \"two\", \"two\", \"two\", \"two\", \"unfortun\", \"upgrad\", \"upgrad\", \"upgrad\", \"usag\", \"usag\", \"use\", \"use\", \"use\", \"use\", \"use\", \"use\", \"user\", \"user\", \"user\", \"user\", \"user\", \"valu\", \"valu\", \"valu\", \"variou\", \"version\", \"video\", \"video\", \"video\", \"video\", \"video\", \"video\", \"view\", \"view\", \"visual\", \"voic\", \"voyag\", \"warranti\", \"warranti\", \"watch\", \"watch\", \"watch\", \"watch\", \"watch\", \"weather\", \"web\", \"web\", \"week\", \"week\", \"well\", \"well\", \"well\", \"well\", \"well\", \"well\", \"white\", \"wife\", \"wife\", \"wifi\", \"wifi\", \"wifi\", \"wifi\", \"window\", \"wireless\", \"wish\", \"wish\", \"wish\", \"work\", \"work\", \"work\", \"work\", \"work\", \"work\", \"worri\", \"worthless\", \"xbox\", \"xma\", \"ye\", \"young\", \"youngest\", \"youtub\", \"youtub\", \"yr\"]}, \"R\": 30, \"lambda.step\": 0.01, \"plot.opts\": {\"xlab\": \"PC1\", \"ylab\": \"PC2\"}, \"topic.order\": [5, 1, 7, 3, 6, 4, 2]};\n",
       "\n",
       "function LDAvis_load_lib(url, callback){\n",
       "  var s = document.createElement('script');\n",
       "  s.src = url;\n",
       "  s.async = true;\n",
       "  s.onreadystatechange = s.onload = callback;\n",
       "  s.onerror = function(){console.warn(\"failed to load library \" + url);};\n",
       "  document.getElementsByTagName(\"head\")[0].appendChild(s);\n",
       "}\n",
       "\n",
       "if(typeof(LDAvis) !== \"undefined\"){\n",
       "   // already loaded: just create the visualization\n",
       "   !function(LDAvis){\n",
       "       new LDAvis(\"#\" + \"ldavis_el2275628017765050249939480477\", ldavis_el2275628017765050249939480477_data);\n",
       "   }(LDAvis);\n",
       "}else if(typeof define === \"function\" && define.amd){\n",
       "   // require.js is available: use it to load d3/LDAvis\n",
       "   require.config({paths: {d3: \"https://cdnjs.cloudflare.com/ajax/libs/d3/3.5.5/d3.min\"}});\n",
       "   require([\"d3\"], function(d3){\n",
       "      window.d3 = d3;\n",
       "      LDAvis_load_lib(\"https://cdn.rawgit.com/bmabey/pyLDAvis/files/ldavis.v1.0.0.js\", function(){\n",
       "        new LDAvis(\"#\" + \"ldavis_el2275628017765050249939480477\", ldavis_el2275628017765050249939480477_data);\n",
       "      });\n",
       "    });\n",
       "}else{\n",
       "    // require.js not available: dynamically load d3 & LDAvis\n",
       "    LDAvis_load_lib(\"https://cdnjs.cloudflare.com/ajax/libs/d3/3.5.5/d3.min.js\", function(){\n",
       "         LDAvis_load_lib(\"https://cdn.rawgit.com/bmabey/pyLDAvis/files/ldavis.v1.0.0.js\", function(){\n",
       "                 new LDAvis(\"#\" + \"ldavis_el2275628017765050249939480477\", ldavis_el2275628017765050249939480477_data);\n",
       "            })\n",
       "         });\n",
       "}\n",
       "</script>"
      ],
      "text/plain": [
       "<IPython.core.display.HTML object>"
      ]
     },
     "execution_count": 20,
     "metadata": {},
     "output_type": "execute_result"
    }
   ],
   "source": [
    "\n",
    "#visualizing topics\n",
    "lda_viz = gensim.models.ldamodel.LdaModel.load('model.gensim')\n",
    "lda_display = pyLDAvis.gensim.prepare(lda_viz, corpus, dictionary, sort_topics=True)\n",
    "pyLDAvis.enable_notebook()\n",
    "pyLDAvis.display(lda_display)"
   ]
  },
  {
   "cell_type": "code",
   "execution_count": null,
   "metadata": {},
   "outputs": [],
   "source": []
  }
 ],
 "metadata": {
  "kernelspec": {
   "display_name": "Python 3",
   "language": "python",
   "name": "python3"
  },
  "language_info": {
   "codemirror_mode": {
    "name": "ipython",
    "version": 3
   },
   "file_extension": ".py",
   "mimetype": "text/x-python",
   "name": "python",
   "nbconvert_exporter": "python",
   "pygments_lexer": "ipython3",
   "version": "3.6.4"
  }
 },
 "nbformat": 4,
 "nbformat_minor": 2
}
